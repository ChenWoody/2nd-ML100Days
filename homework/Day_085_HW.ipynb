{
 "cells": [
  {
   "cell_type": "markdown",
   "metadata": {},
   "source": [
    "## Work\n",
    "1. 試改變 monitor \"Validation Accuracy\" 並比較結果\n",
    "2. 調整 earlystop 的等待次數至 10, 25 並比較結果"
   ]
  },
  {
   "cell_type": "code",
   "execution_count": 1,
   "metadata": {},
   "outputs": [
    {
     "name": "stderr",
     "output_type": "stream",
     "text": [
      "C:\\Python36\\lib\\site-packages\\h5py\\__init__.py:34: FutureWarning: Conversion of the second argument of issubdtype from `float` to `np.floating` is deprecated. In future, it will be treated as `np.float64 == np.dtype(float).type`.\n",
      "  from ._conv import register_converters as _register_converters\n",
      "Using TensorFlow backend.\n"
     ]
    }
   ],
   "source": [
    "import os\n",
    "import keras\n",
    "import matplotlib.pyplot as plt\n",
    "%matplotlib inline\n",
    "\n",
    "\n",
    "# Disable GPU\n",
    "os.environ[\"CUDA_VISIBLE_DEVICES\"] = \"\""
   ]
  },
  {
   "cell_type": "code",
   "execution_count": 2,
   "metadata": {
    "collapsed": true
   },
   "outputs": [],
   "source": [
    "train, test = keras.datasets.cifar10.load_data()"
   ]
  },
  {
   "cell_type": "code",
   "execution_count": 3,
   "metadata": {
    "collapsed": true
   },
   "outputs": [],
   "source": [
    "## 資料前處理\n",
    "def preproc_x(x, flatten=True):\n",
    "    x = x / 255.\n",
    "    if flatten:\n",
    "        x = x.reshape((len(x), -1))\n",
    "    return x\n",
    "\n",
    "def preproc_y(y, num_classes=10):\n",
    "    if y.shape[-1] == 1:\n",
    "        y = keras.utils.to_categorical(y, num_classes)\n",
    "    return y    "
   ]
  },
  {
   "cell_type": "code",
   "execution_count": 4,
   "metadata": {
    "collapsed": true
   },
   "outputs": [],
   "source": [
    "x_train, y_train = train\n",
    "x_test, y_test = test\n",
    "\n",
    "# Preproc the inputs\n",
    "x_train = preproc_x(x_train)\n",
    "x_test = preproc_x(x_test)\n",
    "\n",
    "# Preprc the outputs\n",
    "y_train = preproc_y(y_train)\n",
    "y_test = preproc_y(y_test)"
   ]
  },
  {
   "cell_type": "code",
   "execution_count": 5,
   "metadata": {
    "collapsed": true
   },
   "outputs": [],
   "source": [
    "from keras.layers import BatchNormalization\n",
    "\n",
    "\"\"\"\n",
    "建立神經網路，並加入 BN layer\n",
    "\"\"\"\n",
    "def build_mlp(input_shape, output_units=10, num_neurons=[512, 256, 128]):\n",
    "    input_layer = keras.layers.Input(input_shape)\n",
    "    \n",
    "    for i, n_units in enumerate(num_neurons):\n",
    "        if i == 0:\n",
    "            x = keras.layers.Dense(units=n_units, \n",
    "                                   activation=\"relu\", \n",
    "                                   name=\"hidden_layer\"+str(i+1))(input_layer)\n",
    "            x = BatchNormalization()(x)\n",
    "        else:\n",
    "            x = keras.layers.Dense(units=n_units, \n",
    "                                   activation=\"relu\", \n",
    "                                   name=\"hidden_layer\"+str(i+1))(x)\n",
    "            x = BatchNormalization()(x)\n",
    "    \n",
    "    out = keras.layers.Dense(units=output_units, activation=\"softmax\", name=\"output\")(x)\n",
    "    \n",
    "    model = keras.models.Model(inputs=[input_layer], outputs=[out])\n",
    "    return model"
   ]
  },
  {
   "cell_type": "code",
   "execution_count": 6,
   "metadata": {
    "collapsed": true
   },
   "outputs": [],
   "source": [
    "LEARNING_RATE = 1e-3\n",
    "EPOCHS = 50\n",
    "BATCH_SIZE = 1024\n",
    "MOMENTUM = 0.95"
   ]
  },
  {
   "cell_type": "code",
   "execution_count": 7,
   "metadata": {},
   "outputs": [
    {
     "name": "stderr",
     "output_type": "stream",
     "text": [
      "WARNING: Logging before flag parsing goes to stderr.\n",
      "W0806 08:41:04.647164  9120 deprecation_wrapper.py:119] From C:\\Python36\\lib\\site-packages\\keras\\backend\\tensorflow_backend.py:74: The name tf.get_default_graph is deprecated. Please use tf.compat.v1.get_default_graph instead.\n",
      "\n",
      "W0806 08:41:04.666170  9120 deprecation_wrapper.py:119] From C:\\Python36\\lib\\site-packages\\keras\\backend\\tensorflow_backend.py:517: The name tf.placeholder is deprecated. Please use tf.compat.v1.placeholder instead.\n",
      "\n",
      "W0806 08:41:04.670171  9120 deprecation_wrapper.py:119] From C:\\Python36\\lib\\site-packages\\keras\\backend\\tensorflow_backend.py:4138: The name tf.random_uniform is deprecated. Please use tf.random.uniform instead.\n",
      "\n",
      "W0806 08:41:04.752196  9120 deprecation_wrapper.py:119] From C:\\Python36\\lib\\site-packages\\keras\\backend\\tensorflow_backend.py:133: The name tf.placeholder_with_default is deprecated. Please use tf.compat.v1.placeholder_with_default instead.\n",
      "\n",
      "W0806 08:41:05.008273  9120 deprecation_wrapper.py:119] From C:\\Python36\\lib\\site-packages\\keras\\optimizers.py:790: The name tf.train.Optimizer is deprecated. Please use tf.compat.v1.train.Optimizer instead.\n",
      "\n",
      "W0806 08:41:05.017275  9120 deprecation_wrapper.py:119] From C:\\Python36\\lib\\site-packages\\keras\\backend\\tensorflow_backend.py:3295: The name tf.log is deprecated. Please use tf.math.log instead.\n",
      "\n",
      "W0806 08:41:05.107302  9120 deprecation.py:323] From C:\\Python36\\lib\\site-packages\\tensorflow\\python\\ops\\math_grad.py:1250: add_dispatch_support.<locals>.wrapper (from tensorflow.python.ops.array_ops) is deprecated and will be removed in a future version.\n",
      "Instructions for updating:\n",
      "Use tf.where in 2.0, which has the same broadcast rule as np.where\n"
     ]
    },
    {
     "name": "stdout",
     "output_type": "stream",
     "text": [
      "_________________________________________________________________\n",
      "Layer (type)                 Output Shape              Param #   \n",
      "=================================================================\n",
      "input_1 (InputLayer)         (None, 3072)              0         \n",
      "_________________________________________________________________\n",
      "hidden_layer1 (Dense)        (None, 512)               1573376   \n",
      "_________________________________________________________________\n",
      "batch_normalization_1 (Batch (None, 512)               2048      \n",
      "_________________________________________________________________\n",
      "hidden_layer2 (Dense)        (None, 256)               131328    \n",
      "_________________________________________________________________\n",
      "batch_normalization_2 (Batch (None, 256)               1024      \n",
      "_________________________________________________________________\n",
      "hidden_layer3 (Dense)        (None, 128)               32896     \n",
      "_________________________________________________________________\n",
      "batch_normalization_3 (Batch (None, 128)               512       \n",
      "_________________________________________________________________\n",
      "output (Dense)               (None, 10)                1290      \n",
      "=================================================================\n",
      "Total params: 1,742,474\n",
      "Trainable params: 1,740,682\n",
      "Non-trainable params: 1,792\n",
      "_________________________________________________________________\n",
      "Train on 50000 samples, validate on 10000 samples\n",
      "Epoch 1/50\n",
      "50000/50000 [==============================] - 7s 146us/step - loss: 2.2154 - acc: 0.2660 - val_loss: 2.1081 - val_acc: 0.3144\n",
      "Epoch 2/50\n",
      "50000/50000 [==============================] - 7s 132us/step - loss: 1.7370 - acc: 0.3921 - val_loss: 1.7760 - val_acc: 0.3957\n",
      "Epoch 3/50\n",
      "50000/50000 [==============================] - 6s 115us/step - loss: 1.6167 - acc: 0.4346 - val_loss: 1.7065 - val_acc: 0.4068\n",
      "Epoch 4/50\n",
      "50000/50000 [==============================] - 6s 115us/step - loss: 1.5441 - acc: 0.4584 - val_loss: 1.6393 - val_acc: 0.4260\n",
      "Epoch 5/50\n",
      "50000/50000 [==============================] - 6s 116us/step - loss: 1.4897 - acc: 0.4786 - val_loss: 1.5993 - val_acc: 0.4384\n",
      "Epoch 6/50\n",
      "50000/50000 [==============================] - 6s 114us/step - loss: 1.4444 - acc: 0.4948 - val_loss: 1.5789 - val_acc: 0.4445\n",
      "Epoch 7/50\n",
      "50000/50000 [==============================] - 6s 115us/step - loss: 1.4070 - acc: 0.5079 - val_loss: 1.5516 - val_acc: 0.4527\n",
      "Epoch 8/50\n",
      "50000/50000 [==============================] - 6s 115us/step - loss: 1.3721 - acc: 0.5199 - val_loss: 1.5319 - val_acc: 0.4622\n",
      "Epoch 9/50\n",
      "50000/50000 [==============================] - 6s 114us/step - loss: 1.3383 - acc: 0.5324 - val_loss: 1.5173 - val_acc: 0.4727\n",
      "Epoch 10/50\n",
      "50000/50000 [==============================] - 6s 115us/step - loss: 1.3110 - acc: 0.5445 - val_loss: 1.5047 - val_acc: 0.4706\n",
      "Epoch 11/50\n",
      "50000/50000 [==============================] - 6s 115us/step - loss: 1.2839 - acc: 0.5547 - val_loss: 1.5062 - val_acc: 0.4712\n",
      "Epoch 12/50\n",
      "50000/50000 [==============================] - 6s 116us/step - loss: 1.2565 - acc: 0.5630 - val_loss: 1.4986 - val_acc: 0.4775\n",
      "Epoch 13/50\n",
      "50000/50000 [==============================] - 6s 117us/step - loss: 1.2313 - acc: 0.5722 - val_loss: 1.4792 - val_acc: 0.4809\n",
      "Epoch 14/50\n",
      "50000/50000 [==============================] - 6s 117us/step - loss: 1.2055 - acc: 0.5826 - val_loss: 1.4722 - val_acc: 0.4838\n",
      "Epoch 15/50\n",
      "50000/50000 [==============================] - 6s 117us/step - loss: 1.1819 - acc: 0.5917 - val_loss: 1.4752 - val_acc: 0.4821\n",
      "Epoch 16/50\n",
      "50000/50000 [==============================] - 6s 121us/step - loss: 1.1598 - acc: 0.6015 - val_loss: 1.4595 - val_acc: 0.4857\n",
      "Epoch 17/50\n",
      "50000/50000 [==============================] - 6s 118us/step - loss: 1.1358 - acc: 0.6089 - val_loss: 1.4636 - val_acc: 0.4910\n",
      "Epoch 18/50\n",
      "50000/50000 [==============================] - 6s 118us/step - loss: 1.1156 - acc: 0.6163 - val_loss: 1.4755 - val_acc: 0.4827\n",
      "Epoch 19/50\n",
      "50000/50000 [==============================] - 6s 117us/step - loss: 1.0934 - acc: 0.6237 - val_loss: 1.4583 - val_acc: 0.4866\n",
      "Epoch 20/50\n",
      "50000/50000 [==============================] - 6s 116us/step - loss: 1.0709 - acc: 0.6351 - val_loss: 1.4668 - val_acc: 0.4905\n",
      "Epoch 21/50\n",
      "50000/50000 [==============================] - 6s 118us/step - loss: 1.0492 - acc: 0.6435 - val_loss: 1.4541 - val_acc: 0.4889\n",
      "Epoch 22/50\n",
      "50000/50000 [==============================] - 6s 117us/step - loss: 1.0284 - acc: 0.6505 - val_loss: 1.4584 - val_acc: 0.4908\n",
      "Epoch 23/50\n",
      "50000/50000 [==============================] - 6s 117us/step - loss: 1.0097 - acc: 0.6585 - val_loss: 1.4659 - val_acc: 0.4913\n",
      "Epoch 24/50\n",
      "50000/50000 [==============================] - 6s 118us/step - loss: 0.9869 - acc: 0.6671 - val_loss: 1.4755 - val_acc: 0.4847\n",
      "Epoch 25/50\n",
      "50000/50000 [==============================] - 6s 119us/step - loss: 0.9656 - acc: 0.6762 - val_loss: 1.4622 - val_acc: 0.4908\n",
      "Epoch 26/50\n",
      "50000/50000 [==============================] - 6s 118us/step - loss: 0.9451 - acc: 0.6838 - val_loss: 1.4655 - val_acc: 0.4950\n",
      "Epoch 27/50\n",
      "50000/50000 [==============================] - 6s 119us/step - loss: 0.9243 - acc: 0.6917 - val_loss: 1.4852 - val_acc: 0.4826\n",
      "Epoch 28/50\n",
      "50000/50000 [==============================] - 6s 117us/step - loss: 0.9048 - acc: 0.6985 - val_loss: 1.4910 - val_acc: 0.4830\n",
      "Epoch 29/50\n",
      "50000/50000 [==============================] - 6s 118us/step - loss: 0.8860 - acc: 0.7073 - val_loss: 1.4818 - val_acc: 0.4924\n",
      "Epoch 30/50\n",
      "50000/50000 [==============================] - 6s 118us/step - loss: 0.8664 - acc: 0.7145 - val_loss: 1.4818 - val_acc: 0.4959\n",
      "Epoch 31/50\n",
      "50000/50000 [==============================] - 6s 118us/step - loss: 0.8481 - acc: 0.7223 - val_loss: 1.4951 - val_acc: 0.4933\n",
      "Epoch 32/50\n",
      "50000/50000 [==============================] - 6s 117us/step - loss: 0.8271 - acc: 0.7308 - val_loss: 1.5075 - val_acc: 0.4929\n",
      "Epoch 33/50\n",
      "50000/50000 [==============================] - 6s 121us/step - loss: 0.8066 - acc: 0.7398 - val_loss: 1.4980 - val_acc: 0.4898\n",
      "Epoch 34/50\n",
      "50000/50000 [==============================] - 6s 122us/step - loss: 0.7873 - acc: 0.7459 - val_loss: 1.5087 - val_acc: 0.4910\n",
      "Epoch 35/50\n",
      "50000/50000 [==============================] - 6s 117us/step - loss: 0.7697 - acc: 0.7555 - val_loss: 1.5206 - val_acc: 0.4914\n",
      "Epoch 36/50\n",
      "50000/50000 [==============================] - 6s 117us/step - loss: 0.7503 - acc: 0.7603 - val_loss: 1.5219 - val_acc: 0.4911\n",
      "Epoch 37/50\n",
      "50000/50000 [==============================] - 6s 118us/step - loss: 0.7308 - acc: 0.7708 - val_loss: 1.5298 - val_acc: 0.4875\n",
      "Epoch 38/50\n",
      "50000/50000 [==============================] - 6s 117us/step - loss: 0.7116 - acc: 0.7781 - val_loss: 1.5545 - val_acc: 0.4832\n",
      "Epoch 39/50\n",
      "50000/50000 [==============================] - 6s 122us/step - loss: 0.6945 - acc: 0.7829 - val_loss: 1.5697 - val_acc: 0.4817\n",
      "Epoch 40/50\n",
      "50000/50000 [==============================] - 6s 128us/step - loss: 0.6740 - acc: 0.7926 - val_loss: 1.5649 - val_acc: 0.4910\n",
      "Epoch 00040: early stopping\n"
     ]
    }
   ],
   "source": [
    "# 載入 Callbacks\n",
    "from keras.callbacks import EarlyStopping\n",
    "\n",
    "earlystop = EarlyStopping(monitor=\"val_acc\", \n",
    "                          patience=10, \n",
    "                          verbose=1\n",
    "                          )\n",
    "\n",
    "results = {}\n",
    "model = build_mlp(input_shape=x_train.shape[1:])\n",
    "model.summary()\n",
    "optimizer = keras.optimizers.SGD(lr=LEARNING_RATE, nesterov=True, momentum=MOMENTUM)\n",
    "model.compile(loss=\"categorical_crossentropy\", metrics=[\"accuracy\"], optimizer=optimizer)\n",
    "\n",
    "model.fit(x_train, y_train, \n",
    "          epochs=EPOCHS, \n",
    "          batch_size=BATCH_SIZE, \n",
    "          validation_data=(x_test, y_test), \n",
    "          shuffle=True,\n",
    "          callbacks=[earlystop]\n",
    "         )\n",
    "\n",
    "# Collect results\n",
    "train_loss = model.history.history[\"loss\"]\n",
    "valid_loss = model.history.history[\"val_loss\"]\n",
    "train_acc = model.history.history[\"acc\"]\n",
    "valid_acc = model.history.history[\"val_acc\"]"
   ]
  },
  {
   "cell_type": "code",
   "execution_count": 8,
   "metadata": {},
   "outputs": [
    {
     "data": {
      "image/png": "[encoded data removed]",
      "text/plain": [
       "<matplotlib.figure.Figure at 0x18bbd8d0>"
      ]
     },
     "metadata": {},
     "output_type": "display_data"
    },
    {
     "data": {
      "image/png": "[encoded data removed]",
      "text/plain": [
       "<matplotlib.figure.Figure at 0x2bd0550>"
      ]
     },
     "metadata": {},
     "output_type": "display_data"
    }
   ],
   "source": [
    "import matplotlib.pyplot as plt\n",
    "%matplotlib inline\n",
    "\n",
    "plt.plot(range(len(train_loss)), train_loss, label=\"train loss\")\n",
    "plt.plot(range(len(valid_loss)), valid_loss, label=\"valid loss\")\n",
    "plt.legend()\n",
    "plt.title(\"Loss\")\n",
    "plt.show()\n",
    "\n",
    "plt.plot(range(len(train_acc)), train_acc, label=\"train accuracy\")\n",
    "plt.plot(range(len(valid_acc)), valid_acc, label=\"valid accuracy\")\n",
    "plt.legend()\n",
    "plt.title(\"Accuracy\")\n",
    "plt.show()"
   ]
  },
  {
   "cell_type": "code",
   "execution_count": 9,
   "metadata": {},
   "outputs": [
    {
     "name": "stdout",
     "output_type": "stream",
     "text": [
      "_________________________________________________________________\n",
      "Layer (type)                 Output Shape              Param #   \n",
      "=================================================================\n",
      "input_2 (InputLayer)         (None, 3072)              0         \n",
      "_________________________________________________________________\n",
      "hidden_layer1 (Dense)        (None, 512)               1573376   \n",
      "_________________________________________________________________\n",
      "batch_normalization_4 (Batch (None, 512)               2048      \n",
      "_________________________________________________________________\n",
      "hidden_layer2 (Dense)        (None, 256)               131328    \n",
      "_________________________________________________________________\n",
      "batch_normalization_5 (Batch (None, 256)               1024      \n",
      "_________________________________________________________________\n",
      "hidden_layer3 (Dense)        (None, 128)               32896     \n",
      "_________________________________________________________________\n",
      "batch_normalization_6 (Batch (None, 128)               512       \n",
      "_________________________________________________________________\n",
      "output (Dense)               (None, 10)                1290      \n",
      "=================================================================\n",
      "Total params: 1,742,474\n",
      "Trainable params: 1,740,682\n",
      "Non-trainable params: 1,792\n",
      "_________________________________________________________________\n",
      "Train on 50000 samples, validate on 10000 samples\n",
      "Epoch 1/50\n",
      "50000/50000 [==============================] - 7s 141us/step - loss: 2.2171 - acc: 0.2726 - val_loss: 2.1441 - val_acc: 0.3137\n",
      "Epoch 2/50\n",
      "50000/50000 [==============================] - 6s 115us/step - loss: 1.7392 - acc: 0.3923 - val_loss: 1.7943 - val_acc: 0.3861\n",
      "Epoch 3/50\n",
      "50000/50000 [==============================] - 6s 122us/step - loss: 1.6167 - acc: 0.4326 - val_loss: 1.6888 - val_acc: 0.4137\n",
      "Epoch 4/50\n",
      "50000/50000 [==============================] - 6s 127us/step - loss: 1.5477 - acc: 0.4582 - val_loss: 1.6344 - val_acc: 0.4285\n",
      "Epoch 5/50\n",
      "50000/50000 [==============================] - 6s 119us/step - loss: 1.4935 - acc: 0.4779 - val_loss: 1.5916 - val_acc: 0.4414\n",
      "Epoch 6/50\n",
      "50000/50000 [==============================] - 6s 119us/step - loss: 1.4520 - acc: 0.4921 - val_loss: 1.6072 - val_acc: 0.4387\n",
      "Epoch 7/50\n",
      "50000/50000 [==============================] - 6s 113us/step - loss: 1.4162 - acc: 0.5067 - val_loss: 1.5553 - val_acc: 0.4561\n",
      "Epoch 8/50\n",
      "50000/50000 [==============================] - 6s 114us/step - loss: 1.3815 - acc: 0.5187 - val_loss: 1.5363 - val_acc: 0.4587\n",
      "Epoch 9/50\n",
      "50000/50000 [==============================] - 6s 113us/step - loss: 1.3501 - acc: 0.5300 - val_loss: 1.5211 - val_acc: 0.4648\n",
      "Epoch 10/50\n",
      "50000/50000 [==============================] - 6s 114us/step - loss: 1.3204 - acc: 0.5410 - val_loss: 1.5065 - val_acc: 0.4724\n",
      "Epoch 11/50\n",
      "50000/50000 [==============================] - 6s 113us/step - loss: 1.2920 - acc: 0.5504 - val_loss: 1.4909 - val_acc: 0.4727\n",
      "Epoch 12/50\n",
      "50000/50000 [==============================] - 6s 114us/step - loss: 1.2648 - acc: 0.5610 - val_loss: 1.4879 - val_acc: 0.4763\n",
      "Epoch 13/50\n",
      "50000/50000 [==============================] - 6s 113us/step - loss: 1.2406 - acc: 0.5679 - val_loss: 1.4882 - val_acc: 0.4761\n",
      "Epoch 14/50\n",
      "50000/50000 [==============================] - 6s 113us/step - loss: 1.2131 - acc: 0.5799 - val_loss: 1.4792 - val_acc: 0.4796\n",
      "Epoch 15/50\n",
      "50000/50000 [==============================] - 6s 113us/step - loss: 1.1913 - acc: 0.5877 - val_loss: 1.4730 - val_acc: 0.4812\n",
      "Epoch 16/50\n",
      "50000/50000 [==============================] - 6s 113us/step - loss: 1.1666 - acc: 0.5980 - val_loss: 1.4650 - val_acc: 0.4856\n",
      "Epoch 17/50\n",
      "50000/50000 [==============================] - 6s 114us/step - loss: 1.1432 - acc: 0.6065 - val_loss: 1.4569 - val_acc: 0.4909\n",
      "Epoch 18/50\n",
      "50000/50000 [==============================] - 6s 117us/step - loss: 1.1209 - acc: 0.6153 - val_loss: 1.4548 - val_acc: 0.4879\n",
      "Epoch 19/50\n",
      "50000/50000 [==============================] - 6s 114us/step - loss: 1.0987 - acc: 0.6240 - val_loss: 1.4504 - val_acc: 0.4929\n",
      "Epoch 20/50\n",
      "50000/50000 [==============================] - 6s 113us/step - loss: 1.0795 - acc: 0.6308 - val_loss: 1.4633 - val_acc: 0.4902\n",
      "Epoch 21/50\n",
      "50000/50000 [==============================] - 6s 113us/step - loss: 1.0567 - acc: 0.6400 - val_loss: 1.4762 - val_acc: 0.4808\n",
      "Epoch 22/50\n",
      "50000/50000 [==============================] - 6s 112us/step - loss: 1.0372 - acc: 0.6480 - val_loss: 1.4593 - val_acc: 0.4955\n",
      "Epoch 23/50\n",
      "50000/50000 [==============================] - 6s 113us/step - loss: 1.0157 - acc: 0.6555 - val_loss: 1.4553 - val_acc: 0.4972\n",
      "Epoch 24/50\n",
      "50000/50000 [==============================] - 6s 113us/step - loss: 0.9950 - acc: 0.6622 - val_loss: 1.4702 - val_acc: 0.4910\n",
      "Epoch 25/50\n",
      "50000/50000 [==============================] - 6s 113us/step - loss: 0.9737 - acc: 0.6716 - val_loss: 1.4732 - val_acc: 0.4923\n",
      "Epoch 26/50\n",
      "50000/50000 [==============================] - 6s 113us/step - loss: 0.9541 - acc: 0.6802 - val_loss: 1.4792 - val_acc: 0.4921\n",
      "Epoch 27/50\n",
      "50000/50000 [==============================] - 6s 112us/step - loss: 0.9337 - acc: 0.6877 - val_loss: 1.4656 - val_acc: 0.4983\n",
      "Epoch 28/50\n",
      "50000/50000 [==============================] - 6s 112us/step - loss: 0.9117 - acc: 0.6970 - val_loss: 1.4623 - val_acc: 0.4988\n",
      "Epoch 29/50\n",
      "50000/50000 [==============================] - 6s 113us/step - loss: 0.8937 - acc: 0.7041 - val_loss: 1.4569 - val_acc: 0.5000\n",
      "Epoch 30/50\n",
      "50000/50000 [==============================] - 6s 113us/step - loss: 0.8740 - acc: 0.7121 - val_loss: 1.4871 - val_acc: 0.4916\n",
      "Epoch 31/50\n",
      "50000/50000 [==============================] - 6s 113us/step - loss: 0.8545 - acc: 0.7190 - val_loss: 1.4911 - val_acc: 0.4882\n",
      "Epoch 32/50\n",
      "50000/50000 [==============================] - 6s 113us/step - loss: 0.8344 - acc: 0.7279 - val_loss: 1.4915 - val_acc: 0.4970\n",
      "Epoch 33/50\n",
      "50000/50000 [==============================] - 6s 113us/step - loss: 0.8163 - acc: 0.7352 - val_loss: 1.5143 - val_acc: 0.4897\n",
      "Epoch 34/50\n",
      "50000/50000 [==============================] - 6s 114us/step - loss: 0.7959 - acc: 0.7425 - val_loss: 1.5010 - val_acc: 0.4943\n",
      "Epoch 35/50\n",
      "50000/50000 [==============================] - 6s 113us/step - loss: 0.7771 - acc: 0.7493 - val_loss: 1.5110 - val_acc: 0.4914\n",
      "Epoch 36/50\n",
      "50000/50000 [==============================] - 6s 113us/step - loss: 0.7598 - acc: 0.7556 - val_loss: 1.5260 - val_acc: 0.4896\n",
      "Epoch 37/50\n",
      "50000/50000 [==============================] - 6s 113us/step - loss: 0.7392 - acc: 0.7654 - val_loss: 1.5167 - val_acc: 0.4965\n",
      "Epoch 38/50\n",
      "50000/50000 [==============================] - 6s 113us/step - loss: 0.7217 - acc: 0.7718 - val_loss: 1.5401 - val_acc: 0.4966\n",
      "Epoch 39/50\n",
      "50000/50000 [==============================] - 6s 112us/step - loss: 0.7036 - acc: 0.7788 - val_loss: 1.5549 - val_acc: 0.4896\n",
      "Epoch 40/50\n",
      "50000/50000 [==============================] - 6s 113us/step - loss: 0.6853 - acc: 0.7866 - val_loss: 1.5593 - val_acc: 0.4915\n",
      "Epoch 41/50\n",
      "50000/50000 [==============================] - 6s 114us/step - loss: 0.6675 - acc: 0.7933 - val_loss: 1.5620 - val_acc: 0.4948\n",
      "Epoch 42/50\n",
      "50000/50000 [==============================] - 6s 112us/step - loss: 0.6501 - acc: 0.7993 - val_loss: 1.5679 - val_acc: 0.4956\n",
      "Epoch 43/50\n",
      "50000/50000 [==============================] - 6s 112us/step - loss: 0.6335 - acc: 0.8070 - val_loss: 1.5799 - val_acc: 0.4965\n",
      "Epoch 44/50\n",
      "50000/50000 [==============================] - 6s 113us/step - loss: 0.6147 - acc: 0.8164 - val_loss: 1.5903 - val_acc: 0.4933\n",
      "Epoch 45/50\n",
      "50000/50000 [==============================] - 6s 112us/step - loss: 0.5974 - acc: 0.8213 - val_loss: 1.6107 - val_acc: 0.4901\n",
      "Epoch 46/50\n",
      "50000/50000 [==============================] - 6s 112us/step - loss: 0.5790 - acc: 0.8293 - val_loss: 1.6277 - val_acc: 0.4933\n",
      "Epoch 47/50\n",
      "50000/50000 [==============================] - 6s 112us/step - loss: 0.5641 - acc: 0.8351 - val_loss: 1.6169 - val_acc: 0.4884\n",
      "Epoch 48/50\n",
      "50000/50000 [==============================] - 6s 113us/step - loss: 0.5462 - acc: 0.8409 - val_loss: 1.6314 - val_acc: 0.4943\n",
      "Epoch 49/50\n",
      "50000/50000 [==============================] - 6s 113us/step - loss: 0.5303 - acc: 0.8488 - val_loss: 1.6540 - val_acc: 0.4827\n",
      "Epoch 50/50\n",
      "50000/50000 [==============================] - 6s 113us/step - loss: 0.5153 - acc: 0.8536 - val_loss: 1.6574 - val_acc: 0.4877\n"
     ]
    }
   ],
   "source": [
    "earlystop = EarlyStopping(monitor=\"val_acc\", \n",
    "                          patience=25, \n",
    "                          verbose=1\n",
    "                          )\n",
    "\n",
    "results = {}\n",
    "model = build_mlp(input_shape=x_train.shape[1:])\n",
    "model.summary()\n",
    "optimizer = keras.optimizers.SGD(lr=LEARNING_RATE, nesterov=True, momentum=MOMENTUM)\n",
    "model.compile(loss=\"categorical_crossentropy\", metrics=[\"accuracy\"], optimizer=optimizer)\n",
    "\n",
    "model.fit(x_train, y_train, \n",
    "          epochs=EPOCHS, \n",
    "          batch_size=BATCH_SIZE, \n",
    "          validation_data=(x_test, y_test), \n",
    "          shuffle=True,\n",
    "          callbacks=[earlystop]\n",
    "         )\n",
    "\n",
    "# Collect results\n",
    "train_loss2 = model.history.history[\"loss\"]\n",
    "valid_loss2 = model.history.history[\"val_loss\"]\n",
    "train_acc2 = model.history.history[\"acc\"]\n",
    "valid_acc2 = model.history.history[\"val_acc\"]"
   ]
  },
  {
   "cell_type": "code",
   "execution_count": 10,
   "metadata": {},
   "outputs": [
    {
     "data": {
      "image/png": "[encoded data removed]",
      "text/plain": [
       "<matplotlib.figure.Figure at 0x18c3e6d8>"
      ]
     },
     "metadata": {},
     "output_type": "display_data"
    },
    {
     "data": {
      "image/png": "[encoded data removed]",
      "text/plain": [
       "<matplotlib.figure.Figure at 0x27817f98>"
      ]
     },
     "metadata": {},
     "output_type": "display_data"
    }
   ],
   "source": [
    "plt.plot(range(len(train_loss2)), train_loss2, label=\"train loss\")\n",
    "plt.plot(range(len(valid_loss2)), valid_loss2, label=\"valid loss\")\n",
    "plt.legend()\n",
    "plt.title(\"Loss\")\n",
    "plt.show()\n",
    "\n",
    "plt.plot(range(len(train_acc2)), train_acc2, label=\"train accuracy\")\n",
    "plt.plot(range(len(valid_acc2)), valid_acc2, label=\"valid accuracy\")\n",
    "plt.legend()\n",
    "plt.title(\"Accuracy\")\n",
    "plt.show()"
   ]
  },
  {
   "cell_type": "code",
   "execution_count": null,
   "metadata": {
    "collapsed": true
   },
   "outputs": [],
   "source": []
  }
 ],
 "metadata": {
  "kernelspec": {
   "display_name": "Python 3",
   "language": "python",
   "name": "python3"
  },
  "language_info": {
   "codemirror_mode": {
    "name": "ipython",
    "version": 3
   },
   "file_extension": ".py",
   "mimetype": "text/x-python",
   "name": "python",
   "nbconvert_exporter": "python",
   "pygments_lexer": "ipython3",
   "version": "3.7.3"
  }
 },
 "nbformat": 4,
 "nbformat_minor": 2
}
