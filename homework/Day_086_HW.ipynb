{
 "cells": [
  {
   "cell_type": "markdown",
   "metadata": {},
   "source": [
    "## Work\n",
    "1. 試比較 save_best_only 與否的差異\n",
    "2. 請僅存入將 save_weights_only 設定為 True, 並嘗試 reset ipynb 並將模型與權重重新建回並預測 x_test"
   ]
  },
  {
   "cell_type": "code",
   "execution_count": 1,
   "metadata": {},
   "outputs": [
    {
     "name": "stderr",
     "output_type": "stream",
     "text": [
      "C:\\Python36\\lib\\site-packages\\h5py\\__init__.py:34: FutureWarning: Conversion of the second argument of issubdtype from `float` to `np.floating` is deprecated. In future, it will be treated as `np.float64 == np.dtype(float).type`.\n",
      "  from ._conv import register_converters as _register_converters\n",
      "Using TensorFlow backend.\n"
     ]
    }
   ],
   "source": [
    "import os\n",
    "import keras\n",
    "\n",
    "# Disable GPU\n",
    "os.environ[\"CUDA_VISIBLE_DEVICES\"] = \"\""
   ]
  },
  {
   "cell_type": "code",
   "execution_count": 2,
   "metadata": {
    "collapsed": true
   },
   "outputs": [],
   "source": [
    "train, test = keras.datasets.cifar10.load_data()"
   ]
  },
  {
   "cell_type": "code",
   "execution_count": 3,
   "metadata": {
    "collapsed": true
   },
   "outputs": [],
   "source": [
    "## 資料前處理\n",
    "def preproc_x(x, flatten=True):\n",
    "    x = x / 255.\n",
    "    if flatten:\n",
    "        x = x.reshape((len(x), -1))\n",
    "    return x\n",
    "\n",
    "def preproc_y(y, num_classes=10):\n",
    "    if y.shape[-1] == 1:\n",
    "        y = keras.utils.to_categorical(y, num_classes)\n",
    "    return y    "
   ]
  },
  {
   "cell_type": "code",
   "execution_count": 4,
   "metadata": {
    "collapsed": true
   },
   "outputs": [],
   "source": [
    "x_train, y_train = train\n",
    "x_test, y_test = test\n",
    "\n",
    "# Preproc the inputs\n",
    "x_train = preproc_x(x_train)\n",
    "x_test = preproc_x(x_test)\n",
    "\n",
    "# Preprc the outputs\n",
    "y_train = preproc_y(y_train)\n",
    "y_test = preproc_y(y_test)"
   ]
  },
  {
   "cell_type": "code",
   "execution_count": 5,
   "metadata": {
    "collapsed": true
   },
   "outputs": [],
   "source": [
    "from keras.layers import BatchNormalization\n",
    "\n",
    "\"\"\"\n",
    "建立神經網路，並加入 BN layer\n",
    "\"\"\"\n",
    "def build_mlp(input_shape, output_units=10, num_neurons=[512, 256, 128]):\n",
    "    input_layer = keras.layers.Input(input_shape)\n",
    "    \n",
    "    for i, n_units in enumerate(num_neurons):\n",
    "        if i == 0:\n",
    "            x = keras.layers.Dense(units=n_units, \n",
    "                                   activation=\"relu\", \n",
    "                                   name=\"hidden_layer\"+str(i+1))(input_layer)\n",
    "            x = BatchNormalization()(x)\n",
    "        else:\n",
    "            x = keras.layers.Dense(units=n_units, \n",
    "                                   activation=\"relu\", \n",
    "                                   name=\"hidden_layer\"+str(i+1))(x)\n",
    "            x = BatchNormalization()(x)\n",
    "    \n",
    "    out = keras.layers.Dense(units=output_units, activation=\"softmax\", name=\"output\")(x)\n",
    "    \n",
    "    model = keras.models.Model(inputs=[input_layer], outputs=[out])\n",
    "    return model"
   ]
  },
  {
   "cell_type": "code",
   "execution_count": 6,
   "metadata": {
    "collapsed": true
   },
   "outputs": [],
   "source": [
    "LEARNING_RATE = 1e-3\n",
    "EPOCHS = 25\n",
    "BATCH_SIZE = 1024\n",
    "MOMENTUM = 0.95"
   ]
  },
  {
   "cell_type": "code",
   "execution_count": 8,
   "metadata": {},
   "outputs": [
    {
     "name": "stderr",
     "output_type": "stream",
     "text": [
      "WARNING: Logging before flag parsing goes to stderr.\n",
      "W0806 09:13:38.965191  9564 deprecation_wrapper.py:119] From C:\\Python36\\lib\\site-packages\\keras\\backend\\tensorflow_backend.py:74: The name tf.get_default_graph is deprecated. Please use tf.compat.v1.get_default_graph instead.\n",
      "\n",
      "W0806 09:13:38.988190  9564 deprecation_wrapper.py:119] From C:\\Python36\\lib\\site-packages\\keras\\backend\\tensorflow_backend.py:517: The name tf.placeholder is deprecated. Please use tf.compat.v1.placeholder instead.\n",
      "\n",
      "W0806 09:13:38.992191  9564 deprecation_wrapper.py:119] From C:\\Python36\\lib\\site-packages\\keras\\backend\\tensorflow_backend.py:4138: The name tf.random_uniform is deprecated. Please use tf.random.uniform instead.\n",
      "\n",
      "W0806 09:13:39.087191  9564 deprecation_wrapper.py:119] From C:\\Python36\\lib\\site-packages\\keras\\backend\\tensorflow_backend.py:133: The name tf.placeholder_with_default is deprecated. Please use tf.compat.v1.placeholder_with_default instead.\n",
      "\n",
      "W0806 09:13:39.289191  9564 deprecation_wrapper.py:119] From C:\\Python36\\lib\\site-packages\\keras\\optimizers.py:790: The name tf.train.Optimizer is deprecated. Please use tf.compat.v1.train.Optimizer instead.\n",
      "\n",
      "W0806 09:13:39.298191  9564 deprecation_wrapper.py:119] From C:\\Python36\\lib\\site-packages\\keras\\backend\\tensorflow_backend.py:3295: The name tf.log is deprecated. Please use tf.math.log instead.\n",
      "\n",
      "W0806 09:13:39.389191  9564 deprecation.py:323] From C:\\Python36\\lib\\site-packages\\tensorflow\\python\\ops\\math_grad.py:1250: add_dispatch_support.<locals>.wrapper (from tensorflow.python.ops.array_ops) is deprecated and will be removed in a future version.\n",
      "Instructions for updating:\n",
      "Use tf.where in 2.0, which has the same broadcast rule as np.where\n"
     ]
    },
    {
     "name": "stdout",
     "output_type": "stream",
     "text": [
      "_________________________________________________________________\n",
      "Layer (type)                 Output Shape              Param #   \n",
      "=================================================================\n",
      "input_1 (InputLayer)         (None, 3072)              0         \n",
      "_________________________________________________________________\n",
      "hidden_layer1 (Dense)        (None, 512)               1573376   \n",
      "_________________________________________________________________\n",
      "batch_normalization_1 (Batch (None, 512)               2048      \n",
      "_________________________________________________________________\n",
      "hidden_layer2 (Dense)        (None, 256)               131328    \n",
      "_________________________________________________________________\n",
      "batch_normalization_2 (Batch (None, 256)               1024      \n",
      "_________________________________________________________________\n",
      "hidden_layer3 (Dense)        (None, 128)               32896     \n",
      "_________________________________________________________________\n",
      "batch_normalization_3 (Batch (None, 128)               512       \n",
      "_________________________________________________________________\n",
      "output (Dense)               (None, 10)                1290      \n",
      "=================================================================\n",
      "Total params: 1,742,474\n",
      "Trainable params: 1,740,682\n",
      "Non-trainable params: 1,792\n",
      "_________________________________________________________________\n",
      "Train on 50000 samples, validate on 10000 samples\n",
      "Epoch 1/25\n",
      "50000/50000 [==============================] - 7s 139us/step - loss: 2.2345 - acc: 0.2642 - val_loss: 2.1366 - val_acc: 0.3038\n",
      "Epoch 2/25\n",
      "50000/50000 [==============================] - 6s 128us/step - loss: 1.7518 - acc: 0.3916 - val_loss: 1.8050 - val_acc: 0.3827\n",
      "Epoch 3/25\n",
      "50000/50000 [==============================] - 6s 116us/step - loss: 1.6258 - acc: 0.4321 - val_loss: 1.7061 - val_acc: 0.4016\n",
      "Epoch 4/25\n",
      "50000/50000 [==============================] - 6s 116us/step - loss: 1.5526 - acc: 0.4586 - val_loss: 1.6282 - val_acc: 0.4314\n",
      "Epoch 5/25\n",
      "50000/50000 [==============================] - 6s 125us/step - loss: 1.4992 - acc: 0.4760 - val_loss: 1.6001 - val_acc: 0.4376\n",
      "Epoch 6/25\n",
      "50000/50000 [==============================] - 6s 130us/step - loss: 1.4545 - acc: 0.4933 - val_loss: 1.5710 - val_acc: 0.4527\n",
      "Epoch 7/25\n",
      "50000/50000 [==============================] - 6s 124us/step - loss: 1.4152 - acc: 0.5074 - val_loss: 1.5420 - val_acc: 0.4577\n",
      "Epoch 8/25\n",
      "50000/50000 [==============================] - 6s 122us/step - loss: 1.3815 - acc: 0.5195 - val_loss: 1.5257 - val_acc: 0.4615\n",
      "Epoch 9/25\n",
      "50000/50000 [==============================] - 6s 125us/step - loss: 1.3488 - acc: 0.5326 - val_loss: 1.5069 - val_acc: 0.4704\n",
      "Epoch 10/25\n",
      "50000/50000 [==============================] - 6s 124us/step - loss: 1.3195 - acc: 0.5421 - val_loss: 1.5043 - val_acc: 0.4689\n",
      "Epoch 11/25\n",
      "50000/50000 [==============================] - 6s 124us/step - loss: 1.2925 - acc: 0.5530 - val_loss: 1.4778 - val_acc: 0.4809\n",
      "Epoch 12/25\n",
      "50000/50000 [==============================] - 6s 120us/step - loss: 1.2646 - acc: 0.5643 - val_loss: 1.4720 - val_acc: 0.4852\n",
      "Epoch 13/25\n",
      "50000/50000 [==============================] - 6s 118us/step - loss: 1.2389 - acc: 0.5717 - val_loss: 1.4797 - val_acc: 0.4802\n",
      "Epoch 14/25\n",
      "50000/50000 [==============================] - 6s 118us/step - loss: 1.2147 - acc: 0.5814 - val_loss: 1.4670 - val_acc: 0.4863\n",
      "Epoch 15/25\n",
      "50000/50000 [==============================] - 6s 117us/step - loss: 1.1916 - acc: 0.5918 - val_loss: 1.4655 - val_acc: 0.4820\n",
      "Epoch 16/25\n",
      "50000/50000 [==============================] - 6s 118us/step - loss: 1.1676 - acc: 0.5992 - val_loss: 1.4566 - val_acc: 0.4895\n",
      "Epoch 17/25\n",
      "50000/50000 [==============================] - 6s 120us/step - loss: 1.1444 - acc: 0.6089 - val_loss: 1.4616 - val_acc: 0.4871\n",
      "Epoch 18/25\n",
      "50000/50000 [==============================] - 6s 117us/step - loss: 1.1226 - acc: 0.6165 - val_loss: 1.4482 - val_acc: 0.4885\n",
      "Epoch 19/25\n",
      "50000/50000 [==============================] - 6s 118us/step - loss: 1.0997 - acc: 0.6254 - val_loss: 1.4505 - val_acc: 0.4926\n",
      "Epoch 20/25\n",
      "50000/50000 [==============================] - 6s 118us/step - loss: 1.0788 - acc: 0.6322 - val_loss: 1.4466 - val_acc: 0.4860\n",
      "Epoch 21/25\n",
      "50000/50000 [==============================] - 6s 118us/step - loss: 1.0580 - acc: 0.6414 - val_loss: 1.4451 - val_acc: 0.4934\n",
      "Epoch 22/25\n",
      "50000/50000 [==============================] - 6s 118us/step - loss: 1.0372 - acc: 0.6486 - val_loss: 1.4453 - val_acc: 0.4939\n",
      "Epoch 23/25\n",
      "50000/50000 [==============================] - 6s 118us/step - loss: 1.0166 - acc: 0.6551 - val_loss: 1.4494 - val_acc: 0.4953\n",
      "Epoch 24/25\n",
      "50000/50000 [==============================] - 6s 118us/step - loss: 0.9958 - acc: 0.6646 - val_loss: 1.4514 - val_acc: 0.5010\n",
      "Epoch 25/25\n",
      "50000/50000 [==============================] - 6s 119us/step - loss: 0.9749 - acc: 0.6736 - val_loss: 1.4706 - val_acc: 0.4893\n"
     ]
    }
   ],
   "source": [
    "# 載入 Callbacks\n",
    "from keras.callbacks import ModelCheckpoint\n",
    "\n",
    "model_ckpt = ModelCheckpoint(filepath=\"./tmp.h5\", \n",
    "                             monitor=\"val_loss\", \n",
    "                             save_best_only=False)\n",
    "\n",
    "\n",
    "model = build_mlp(input_shape=x_train.shape[1:])\n",
    "model.summary()\n",
    "optimizer = keras.optimizers.SGD(lr=LEARNING_RATE, nesterov=True, momentum=MOMENTUM)\n",
    "model.compile(loss=\"categorical_crossentropy\", metrics=[\"accuracy\"], optimizer=optimizer)\n",
    "\n",
    "model.fit(x_train, y_train, \n",
    "          epochs=EPOCHS, \n",
    "          batch_size=BATCH_SIZE, \n",
    "          validation_data=(x_test, y_test), \n",
    "          shuffle=True,\n",
    "          callbacks=[model_ckpt]\n",
    "         )\n",
    "\n",
    "# Collect results\n",
    "train_loss = model.history.history[\"loss\"]\n",
    "valid_loss = model.history.history[\"val_loss\"]\n",
    "train_acc = model.history.history[\"acc\"]\n",
    "valid_acc = model.history.history[\"val_acc\"]"
   ]
  },
  {
   "cell_type": "code",
   "execution_count": 10,
   "metadata": {},
   "outputs": [
    {
     "name": "stdout",
     "output_type": "stream",
     "text": [
      "10000/10000 [==============================] - 1s 124us/step\n"
     ]
    }
   ],
   "source": [
    "model = keras.models.load_model(\"./tmp.h5\")\n",
    "loss_loadback, acc_loadback = model.evaluate(x_test, y_test)"
   ]
  },
  {
   "cell_type": "code",
   "execution_count": 11,
   "metadata": {
    "scrolled": false
   },
   "outputs": [
    {
     "data": {
      "image/png": "[encoded data removed]",
      "text/plain": [
       "<matplotlib.figure.Figure at 0x1b4f7f60>"
      ]
     },
     "metadata": {},
     "output_type": "display_data"
    },
    {
     "data": {
      "image/png": "[encoded data removed]",
      "text/plain": [
       "<matplotlib.figure.Figure at 0x1baa5d30>"
      ]
     },
     "metadata": {},
     "output_type": "display_data"
    }
   ],
   "source": [
    "import matplotlib.pyplot as plt\n",
    "%matplotlib inline\n",
    "\n",
    "plt.plot(range(len(train_loss)), train_loss, label=\"train loss\")\n",
    "plt.plot(range(len(valid_loss)), valid_loss, label=\"valid loss\")\n",
    "plt.hlines(y=loss_loadback, xmin=0, xmax=len(train_loss), colors='r', linestyles='--')\n",
    "plt.legend()\n",
    "plt.title(\"Loss\")\n",
    "plt.show()\n",
    "\n",
    "plt.plot(range(len(train_acc)), train_acc, label=\"train accuracy\")\n",
    "plt.plot(range(len(valid_acc)), valid_acc, label=\"valid accuracy\")\n",
    "plt.hlines(y=acc_loadback, xmin=0, xmax=len(train_loss), colors='r', linestyles='--')\n",
    "plt.legend()\n",
    "plt.title(\"Accuracy\")\n",
    "plt.show()"
   ]
  },
  {
   "cell_type": "code",
   "execution_count": 15,
   "metadata": {
    "scrolled": true
   },
   "outputs": [
    {
     "name": "stdout",
     "output_type": "stream",
     "text": [
      "_________________________________________________________________\n",
      "Layer (type)                 Output Shape              Param #   \n",
      "=================================================================\n",
      "input_3 (InputLayer)         (None, 3072)              0         \n",
      "_________________________________________________________________\n",
      "hidden_layer1 (Dense)        (None, 512)               1573376   \n",
      "_________________________________________________________________\n",
      "batch_normalization_7 (Batch (None, 512)               2048      \n",
      "_________________________________________________________________\n",
      "hidden_layer2 (Dense)        (None, 256)               131328    \n",
      "_________________________________________________________________\n",
      "batch_normalization_8 (Batch (None, 256)               1024      \n",
      "_________________________________________________________________\n",
      "hidden_layer3 (Dense)        (None, 128)               32896     \n",
      "_________________________________________________________________\n",
      "batch_normalization_9 (Batch (None, 128)               512       \n",
      "_________________________________________________________________\n",
      "output (Dense)               (None, 10)                1290      \n",
      "=================================================================\n",
      "Total params: 1,742,474\n",
      "Trainable params: 1,740,682\n",
      "Non-trainable params: 1,792\n",
      "_________________________________________________________________\n",
      "Train on 50000 samples, validate on 10000 samples\n",
      "Epoch 1/25\n",
      "50000/50000 [==============================] - 7s 140us/step - loss: 2.1552 - acc: 0.2836 - val_loss: 2.0598 - val_acc: 0.3346\n",
      "Epoch 2/25\n",
      "50000/50000 [==============================] - 6s 129us/step - loss: 1.7299 - acc: 0.3970 - val_loss: 1.8029 - val_acc: 0.3920\n",
      "Epoch 3/25\n",
      "50000/50000 [==============================] - 6s 123us/step - loss: 1.6104 - acc: 0.4342 - val_loss: 1.6902 - val_acc: 0.4076\n",
      "Epoch 4/25\n",
      "50000/50000 [==============================] - 6s 116us/step - loss: 1.5354 - acc: 0.4629 - val_loss: 1.6274 - val_acc: 0.4358\n",
      "Epoch 5/25\n",
      "50000/50000 [==============================] - 6s 116us/step - loss: 1.4802 - acc: 0.4834 - val_loss: 1.5812 - val_acc: 0.4441\n",
      "Epoch 6/25\n",
      "50000/50000 [==============================] - 6s 116us/step - loss: 1.4326 - acc: 0.5004 - val_loss: 1.5655 - val_acc: 0.4498\n",
      "Epoch 7/25\n",
      "50000/50000 [==============================] - 6s 115us/step - loss: 1.3928 - acc: 0.5138 - val_loss: 1.5398 - val_acc: 0.4544\n",
      "Epoch 8/25\n",
      "50000/50000 [==============================] - 6s 116us/step - loss: 1.3581 - acc: 0.5262 - val_loss: 1.5186 - val_acc: 0.4669\n",
      "Epoch 9/25\n",
      "50000/50000 [==============================] - 6s 115us/step - loss: 1.3251 - acc: 0.5387 - val_loss: 1.5139 - val_acc: 0.4691\n",
      "Epoch 10/25\n",
      "50000/50000 [==============================] - 6s 116us/step - loss: 1.2964 - acc: 0.5486 - val_loss: 1.4952 - val_acc: 0.4732\n",
      "Epoch 11/25\n",
      "50000/50000 [==============================] - 6s 117us/step - loss: 1.2675 - acc: 0.5585 - val_loss: 1.4884 - val_acc: 0.4835\n",
      "Epoch 12/25\n",
      "50000/50000 [==============================] - 6s 115us/step - loss: 1.2388 - acc: 0.5702 - val_loss: 1.4856 - val_acc: 0.4779\n",
      "Epoch 13/25\n",
      "50000/50000 [==============================] - 6s 116us/step - loss: 1.2143 - acc: 0.5792 - val_loss: 1.4679 - val_acc: 0.4863\n",
      "Epoch 14/25\n",
      "50000/50000 [==============================] - 6s 115us/step - loss: 1.1890 - acc: 0.5885 - val_loss: 1.4681 - val_acc: 0.4848\n",
      "Epoch 15/25\n",
      "50000/50000 [==============================] - 6s 115us/step - loss: 1.1656 - acc: 0.5987 - val_loss: 1.4664 - val_acc: 0.4895\n",
      "Epoch 16/25\n",
      "50000/50000 [==============================] - 6s 115us/step - loss: 1.1406 - acc: 0.6075 - val_loss: 1.4703 - val_acc: 0.4807\n",
      "Epoch 17/25\n",
      "50000/50000 [==============================] - 6s 115us/step - loss: 1.1184 - acc: 0.6159 - val_loss: 1.4626 - val_acc: 0.4872\n",
      "Epoch 18/25\n",
      "50000/50000 [==============================] - 6s 116us/step - loss: 1.0972 - acc: 0.6243 - val_loss: 1.4574 - val_acc: 0.4926\n",
      "Epoch 19/25\n",
      "50000/50000 [==============================] - 6s 118us/step - loss: 1.0729 - acc: 0.6333 - val_loss: 1.4640 - val_acc: 0.4810\n",
      "Epoch 20/25\n",
      "50000/50000 [==============================] - 6s 115us/step - loss: 1.0515 - acc: 0.6410 - val_loss: 1.4560 - val_acc: 0.4895\n",
      "Epoch 21/25\n",
      "50000/50000 [==============================] - 6s 116us/step - loss: 1.0297 - acc: 0.6516 - val_loss: 1.4584 - val_acc: 0.4880\n",
      "Epoch 22/25\n",
      "50000/50000 [==============================] - 6s 115us/step - loss: 1.0084 - acc: 0.6587 - val_loss: 1.4677 - val_acc: 0.4921\n",
      "Epoch 23/25\n",
      "50000/50000 [==============================] - 6s 115us/step - loss: 0.9874 - acc: 0.6669 - val_loss: 1.4651 - val_acc: 0.4874\n",
      "Epoch 24/25\n",
      "50000/50000 [==============================] - 6s 116us/step - loss: 0.9650 - acc: 0.6776 - val_loss: 1.4720 - val_acc: 0.4864\n",
      "Epoch 25/25\n",
      "50000/50000 [==============================] - 6s 116us/step - loss: 0.9437 - acc: 0.6849 - val_loss: 1.4666 - val_acc: 0.4940\n"
     ]
    }
   ],
   "source": [
    "model_ckpt = ModelCheckpoint(filepath=\"./tmp_weight.h5\", \n",
    "                             monitor=\"val_loss\", \n",
    "                             save_best_only=True,\n",
    "                             save_weights_only=True)\n",
    "\n",
    "\n",
    "model = build_mlp(input_shape=x_train.shape[1:])\n",
    "model.summary()\n",
    "optimizer = keras.optimizers.SGD(lr=LEARNING_RATE, nesterov=True, momentum=MOMENTUM)\n",
    "model.compile(loss=\"categorical_crossentropy\", metrics=[\"accuracy\"], optimizer=optimizer)\n",
    "\n",
    "model.fit(x_train, y_train, \n",
    "          epochs=EPOCHS, \n",
    "          batch_size=BATCH_SIZE, \n",
    "          validation_data=(x_test, y_test), \n",
    "          shuffle=True,\n",
    "          callbacks=[model_ckpt]\n",
    "         )\n",
    "\n",
    "# Collect results\n",
    "train_loss2 = model.history.history[\"loss\"]\n",
    "valid_loss2 = model.history.history[\"val_loss\"]\n",
    "train_acc2 = model.history.history[\"acc\"]\n",
    "valid_acc2 = model.history.history[\"val_acc\"]"
   ]
  },
  {
   "cell_type": "code",
   "execution_count": 7,
   "metadata": {},
   "outputs": [
    {
     "name": "stderr",
     "output_type": "stream",
     "text": [
      "WARNING: Logging before flag parsing goes to stderr.\n",
      "W0806 09:32:41.190191  8516 deprecation_wrapper.py:119] From C:\\Python36\\lib\\site-packages\\keras\\backend\\tensorflow_backend.py:74: The name tf.get_default_graph is deprecated. Please use tf.compat.v1.get_default_graph instead.\n",
      "\n",
      "W0806 09:32:41.208190  8516 deprecation_wrapper.py:119] From C:\\Python36\\lib\\site-packages\\keras\\backend\\tensorflow_backend.py:517: The name tf.placeholder is deprecated. Please use tf.compat.v1.placeholder instead.\n",
      "\n",
      "W0806 09:32:41.211190  8516 deprecation_wrapper.py:119] From C:\\Python36\\lib\\site-packages\\keras\\backend\\tensorflow_backend.py:4138: The name tf.random_uniform is deprecated. Please use tf.random.uniform instead.\n",
      "\n",
      "W0806 09:32:41.296190  8516 deprecation_wrapper.py:119] From C:\\Python36\\lib\\site-packages\\keras\\backend\\tensorflow_backend.py:133: The name tf.placeholder_with_default is deprecated. Please use tf.compat.v1.placeholder_with_default instead.\n",
      "\n",
      "W0806 09:32:41.482191  8516 deprecation_wrapper.py:119] From C:\\Python36\\lib\\site-packages\\keras\\optimizers.py:790: The name tf.train.Optimizer is deprecated. Please use tf.compat.v1.train.Optimizer instead.\n",
      "\n",
      "W0806 09:32:41.490191  8516 deprecation_wrapper.py:119] From C:\\Python36\\lib\\site-packages\\keras\\backend\\tensorflow_backend.py:3295: The name tf.log is deprecated. Please use tf.math.log instead.\n",
      "\n"
     ]
    },
    {
     "name": "stdout",
     "output_type": "stream",
     "text": [
      "_________________________________________________________________\n",
      "Layer (type)                 Output Shape              Param #   \n",
      "=================================================================\n",
      "input_1 (InputLayer)         (None, 3072)              0         \n",
      "_________________________________________________________________\n",
      "hidden_layer1 (Dense)        (None, 512)               1573376   \n",
      "_________________________________________________________________\n",
      "batch_normalization_1 (Batch (None, 512)               2048      \n",
      "_________________________________________________________________\n",
      "hidden_layer2 (Dense)        (None, 256)               131328    \n",
      "_________________________________________________________________\n",
      "batch_normalization_2 (Batch (None, 256)               1024      \n",
      "_________________________________________________________________\n",
      "hidden_layer3 (Dense)        (None, 128)               32896     \n",
      "_________________________________________________________________\n",
      "batch_normalization_3 (Batch (None, 128)               512       \n",
      "_________________________________________________________________\n",
      "output (Dense)               (None, 10)                1290      \n",
      "=================================================================\n",
      "Total params: 1,742,474\n",
      "Trainable params: 1,740,682\n",
      "Non-trainable params: 1,792\n",
      "_________________________________________________________________\n"
     ]
    }
   ],
   "source": [
    "from keras.callbacks import ModelCheckpoint\n",
    "\n",
    "model_ckpt = ModelCheckpoint(filepath=\"./tmp.h5\", \n",
    "                             monitor=\"val_loss\", \n",
    "                             save_best_only=False)\n",
    "\n",
    "\n",
    "model = build_mlp(input_shape=x_train.shape[1:])\n",
    "model.summary()\n",
    "optimizer = keras.optimizers.SGD(lr=LEARNING_RATE, nesterov=True, momentum=MOMENTUM)\n",
    "model.compile(loss=\"categorical_crossentropy\", metrics=[\"accuracy\"], optimizer=optimizer)"
   ]
  },
  {
   "cell_type": "code",
   "execution_count": 8,
   "metadata": {
    "collapsed": true
   },
   "outputs": [],
   "source": [
    "model.load_weights(\"./tmp_weight.h5\")"
   ]
  },
  {
   "cell_type": "code",
   "execution_count": 9,
   "metadata": {},
   "outputs": [
    {
     "name": "stdout",
     "output_type": "stream",
     "text": [
      "10000/10000 [==============================] - 1s 108us/step\n"
     ]
    }
   ],
   "source": [
    "loss_loadback, acc_loadback = model.evaluate(x_test, y_test)"
   ]
  },
  {
   "cell_type": "code",
   "execution_count": 10,
   "metadata": {},
   "outputs": [
    {
     "name": "stdout",
     "output_type": "stream",
     "text": [
      "1.4559771556854249\n"
     ]
    }
   ],
   "source": [
    "print(loss_loadback)"
   ]
  },
  {
   "cell_type": "code",
   "execution_count": 11,
   "metadata": {},
   "outputs": [
    {
     "name": "stdout",
     "output_type": "stream",
     "text": [
      "0.4895\n"
     ]
    }
   ],
   "source": [
    "print(acc_loadback)"
   ]
  },
  {
   "cell_type": "code",
   "execution_count": null,
   "metadata": {
    "collapsed": true
   },
   "outputs": [],
   "source": []
  }
 ],
 "metadata": {
  "kernelspec": {
   "display_name": "Python 3",
   "language": "python",
   "name": "python3"
  },
  "language_info": {
   "codemirror_mode": {
    "name": "ipython",
    "version": 3
   },
   "file_extension": ".py",
   "mimetype": "text/x-python",
   "name": "python",
   "nbconvert_exporter": "python",
   "pygments_lexer": "ipython3",
   "version": "3.7.3"
  }
 },
 "nbformat": 4,
 "nbformat_minor": 2
}
