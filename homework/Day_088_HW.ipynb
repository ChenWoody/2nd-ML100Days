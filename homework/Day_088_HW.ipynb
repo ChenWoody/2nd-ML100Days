{
 "cells": [
  {
   "cell_type": "markdown",
   "metadata": {},
   "source": [
    "## Work\n",
    "1. 請嘗試寫一個 callback 用來記錄各類別在訓練過程中，對驗證集的 True Positive 與 True Negative"
   ]
  },
  {
   "cell_type": "code",
   "execution_count": 1,
   "metadata": {},
   "outputs": [
    {
     "name": "stderr",
     "output_type": "stream",
     "text": [
      "Using TensorFlow backend.\n"
     ]
    }
   ],
   "source": [
    "import os\n",
    "import keras\n",
    "\n",
    "# Disable GPU\n",
    "os.environ[\"CUDA_VISIBLE_DEVICES\"] = \"\""
   ]
  },
  {
   "cell_type": "code",
   "execution_count": 2,
   "metadata": {},
   "outputs": [],
   "source": [
    "train, test = keras.datasets.cifar10.load_data()"
   ]
  },
  {
   "cell_type": "code",
   "execution_count": 3,
   "metadata": {},
   "outputs": [],
   "source": [
    "## 資料前處理\n",
    "def preproc_x(x, flatten=True):\n",
    "    x = x / 255.\n",
    "    if flatten:\n",
    "        x = x.reshape((len(x), -1))\n",
    "    return x\n",
    "\n",
    "def preproc_y(y, num_classes=10):\n",
    "    if y.shape[-1] == 1:\n",
    "        y = keras.utils.to_categorical(y, num_classes)\n",
    "    return y    "
   ]
  },
  {
   "cell_type": "code",
   "execution_count": 4,
   "metadata": {},
   "outputs": [],
   "source": [
    "x_train, y_train = train\n",
    "x_test, y_test = test\n",
    "\n",
    "# Preproc the inputs\n",
    "x_train = preproc_x(x_train)\n",
    "x_test = preproc_x(x_test)\n",
    "\n",
    "# Preprc the outputs\n",
    "y_train = preproc_y(y_train)\n",
    "y_test = preproc_y(y_test)"
   ]
  },
  {
   "cell_type": "code",
   "execution_count": 5,
   "metadata": {},
   "outputs": [],
   "source": [
    "from keras.layers import BatchNormalization\n",
    "def build_mlp(input_shape, output_units=10, num_neurons=[512, 256, 128]):\n",
    "    input_layer = keras.layers.Input(input_shape)\n",
    "    \n",
    "    for i, n_units in enumerate(num_neurons):\n",
    "        if i == 0:\n",
    "            x = keras.layers.Dense(units=n_units, \n",
    "                                   activation=\"relu\", \n",
    "                                   name=\"hidden_layer\"+str(i+1))(input_layer)\n",
    "            x = BatchNormalization()(x)\n",
    "        else:\n",
    "            x = keras.layers.Dense(units=n_units, \n",
    "                                   activation=\"relu\", \n",
    "                                   name=\"hidden_layer\"+str(i+1))(x)\n",
    "            x = BatchNormalization()(x)\n",
    "    \n",
    "    out = keras.layers.Dense(units=output_units, activation=\"softmax\", name=\"output\")(x)\n",
    "    \n",
    "    model = keras.models.Model(inputs=[input_layer], outputs=[out])\n",
    "    return model"
   ]
  },
  {
   "cell_type": "code",
   "execution_count": 6,
   "metadata": {},
   "outputs": [],
   "source": [
    "## 超參數設定\n",
    "LEARNING_RATE = 1e-3\n",
    "EPOCHS = 25\n",
    "BATCH_SIZE = 1024\n",
    "MOMENTUM = 0.95"
   ]
  },
  {
   "cell_type": "code",
   "execution_count": 14,
   "metadata": {},
   "outputs": [],
   "source": [
    "# 載入 Callbacks\n",
    "from keras.callbacks import Callback\n",
    "import numpy as np \n",
    "\n",
    "class Record_tp_tn(Callback):\n",
    "    def on_train_begin(self, epoch, logs = {}):\n",
    "        logs = logs or {}\n",
    "        record_items = [\"val_auc\", \"val_f1sc\", \"val_fp\", \"val_fn\", \"val_tp\", \"val_tn\"]\n",
    "        for i in record_items:\n",
    "            if i not in self.params['metrics']:\n",
    "                self.params['metrics'].append(i)\n",
    "    \n",
    "    def on_epoch_end(self, epoch, logs = {}, thres=0.5):\n",
    "        logs = logs or {}\n",
    "        y_true = self.validation_data[1].argmax(axis = 1)\n",
    "        y_pred = self.model.predict(self.validation_data[0])\n",
    "        y_pred = (y_pred[:, 1] >= thres) * 1\n",
    "                    \n",
    "        logs[\"val_tp\"] = np.sum(np.logical_and(y_pred == 1, y_true == 1))\n",
    "        logs[\"val_tn\"] = np.sum(np.logical_and(y_pred == 0, y_true == 0))\n",
    "        \n",
    "rec_tptn = Record_tp_tn()"
   ]
  },
  {
   "cell_type": "code",
   "execution_count": 15,
   "metadata": {
    "scrolled": true
   },
   "outputs": [
    {
     "name": "stdout",
     "output_type": "stream",
     "text": [
      "_________________________________________________________________\n",
      "Layer (type)                 Output Shape              Param #   \n",
      "=================================================================\n",
      "input_3 (InputLayer)         (None, 3072)              0         \n",
      "_________________________________________________________________\n",
      "hidden_layer1 (Dense)        (None, 512)               1573376   \n",
      "_________________________________________________________________\n",
      "batch_normalization_7 (Batch (None, 512)               2048      \n",
      "_________________________________________________________________\n",
      "hidden_layer2 (Dense)        (None, 256)               131328    \n",
      "_________________________________________________________________\n",
      "batch_normalization_8 (Batch (None, 256)               1024      \n",
      "_________________________________________________________________\n",
      "hidden_layer3 (Dense)        (None, 128)               32896     \n",
      "_________________________________________________________________\n",
      "batch_normalization_9 (Batch (None, 128)               512       \n",
      "_________________________________________________________________\n",
      "output (Dense)               (None, 10)                1290      \n",
      "=================================================================\n",
      "Total params: 1,742,474\n",
      "Trainable params: 1,740,682\n",
      "Non-trainable params: 1,792\n",
      "_________________________________________________________________\n",
      "Train on 50000 samples, validate on 10000 samples\n",
      "Epoch 1/25\n",
      "50000/50000 [==============================] - 7s 134us/step - loss: 2.2036 - acc: 0.2674 - val_loss: 2.1053 - val_acc: 0.3143\n",
      "Epoch 2/25\n",
      "50000/50000 [==============================] - 5s 107us/step - loss: 1.7444 - acc: 0.3939 - val_loss: 1.8228 - val_acc: 0.3775\n",
      "Epoch 3/25\n",
      "50000/50000 [==============================] - 5s 106us/step - loss: 1.6241 - acc: 0.4343 - val_loss: 1.7077 - val_acc: 0.4043\n",
      "Epoch 4/25\n",
      "50000/50000 [==============================] - 5s 107us/step - loss: 1.5527 - acc: 0.4589 - val_loss: 1.6276 - val_acc: 0.4281\n",
      "Epoch 5/25\n",
      "50000/50000 [==============================] - 5s 107us/step - loss: 1.4983 - acc: 0.4815 - val_loss: 1.6058 - val_acc: 0.4364\n",
      "Epoch 6/25\n",
      "50000/50000 [==============================] - 5s 106us/step - loss: 1.4554 - acc: 0.4958 - val_loss: 1.5669 - val_acc: 0.4522\n",
      "Epoch 7/25\n",
      "50000/50000 [==============================] - 5s 108us/step - loss: 1.4156 - acc: 0.5102 - val_loss: 1.5425 - val_acc: 0.4582\n",
      "Epoch 8/25\n",
      "50000/50000 [==============================] - 5s 106us/step - loss: 1.3797 - acc: 0.5235 - val_loss: 1.5300 - val_acc: 0.4612\n",
      "Epoch 9/25\n",
      "50000/50000 [==============================] - 5s 107us/step - loss: 1.3467 - acc: 0.5350 - val_loss: 1.5090 - val_acc: 0.4705\n",
      "Epoch 10/25\n",
      "50000/50000 [==============================] - 5s 107us/step - loss: 1.3177 - acc: 0.5453 - val_loss: 1.4958 - val_acc: 0.4744\n",
      "Epoch 11/25\n",
      "50000/50000 [==============================] - 5s 106us/step - loss: 1.2891 - acc: 0.5576 - val_loss: 1.4889 - val_acc: 0.4783\n",
      "Epoch 12/25\n",
      "50000/50000 [==============================] - 5s 106us/step - loss: 1.2623 - acc: 0.5649 - val_loss: 1.4779 - val_acc: 0.4817\n",
      "Epoch 13/25\n",
      "50000/50000 [==============================] - 5s 107us/step - loss: 1.2362 - acc: 0.5747 - val_loss: 1.4597 - val_acc: 0.4910\n",
      "Epoch 14/25\n",
      "50000/50000 [==============================] - 5s 106us/step - loss: 1.2132 - acc: 0.5826 - val_loss: 1.4522 - val_acc: 0.4871\n",
      "Epoch 15/25\n",
      "50000/50000 [==============================] - 6s 113us/step - loss: 1.1895 - acc: 0.5913 - val_loss: 1.4518 - val_acc: 0.4935\n",
      "Epoch 16/25\n",
      "50000/50000 [==============================] - 5s 109us/step - loss: 1.1650 - acc: 0.6019 - val_loss: 1.4500 - val_acc: 0.4932\n",
      "Epoch 17/25\n",
      "50000/50000 [==============================] - 5s 109us/step - loss: 1.1439 - acc: 0.6072 - val_loss: 1.4562 - val_acc: 0.4923\n",
      "Epoch 18/25\n",
      "50000/50000 [==============================] - 6s 114us/step - loss: 1.1214 - acc: 0.6163 - val_loss: 1.4409 - val_acc: 0.4960\n",
      "Epoch 19/25\n",
      "50000/50000 [==============================] - 6s 111us/step - loss: 1.0989 - acc: 0.6245 - val_loss: 1.4370 - val_acc: 0.4977\n",
      "Epoch 20/25\n",
      "50000/50000 [==============================] - 5s 96us/step - loss: 1.0769 - acc: 0.6323 - val_loss: 1.4602 - val_acc: 0.4946\n",
      "Epoch 21/25\n",
      "50000/50000 [==============================] - 5s 97us/step - loss: 1.0588 - acc: 0.6388 - val_loss: 1.4342 - val_acc: 0.4967\n",
      "Epoch 22/25\n",
      "50000/50000 [==============================] - 6s 117us/step - loss: 1.0376 - acc: 0.6490 - val_loss: 1.4519 - val_acc: 0.4963\n",
      "Epoch 23/25\n",
      "50000/50000 [==============================] - 5s 99us/step - loss: 1.0162 - acc: 0.6551 - val_loss: 1.4488 - val_acc: 0.4954\n",
      "Epoch 24/25\n",
      "50000/50000 [==============================] - 5s 96us/step - loss: 0.9963 - acc: 0.6641 - val_loss: 1.4523 - val_acc: 0.5001\n",
      "Epoch 25/25\n",
      "50000/50000 [==============================] - 5s 96us/step - loss: 0.9746 - acc: 0.6712 - val_loss: 1.4375 - val_acc: 0.5029\n"
     ]
    }
   ],
   "source": [
    "model = build_mlp(input_shape=x_train.shape[1:])\n",
    "model.summary()\n",
    "optimizer = keras.optimizers.SGD(lr=LEARNING_RATE, nesterov=True, momentum=MOMENTUM)\n",
    "model.compile(loss=\"categorical_crossentropy\", metrics=[\"accuracy\"], optimizer=optimizer)\n",
    "\n",
    "\"\"\"Code Here\n",
    "將 callbacks 放入模型訓練流程中\n",
    "\"\"\"\n",
    "model.fit(x_train, y_train, \n",
    "          epochs=EPOCHS, \n",
    "          batch_size=BATCH_SIZE, \n",
    "          validation_data=(x_test, y_test), \n",
    "          shuffle=True,\n",
    "          callbacks=[rec_tptn])\n",
    "\n",
    "# Collect results\n",
    "train_loss = model.history.history[\"loss\"]\n",
    "valid_loss = model.history.history[\"val_loss\"]\n",
    "train_acc = model.history.history[\"acc\"]\n",
    "valid_acc = model.history.history[\"val_acc\"]\n",
    "\n",
    "\"\"\"Code Here\n",
    "將 tp/tn 從訓練完的模型中取出\n",
    "\"\"\"\n",
    "valid_tp = model.history.history[\"val_tp\"]\n",
    "valid_tn = model.history.history[\"val_tn\"]\n"
   ]
  },
  {
   "cell_type": "code",
   "execution_count": 16,
   "metadata": {},
   "outputs": [
    {
     "data": {
      "image/png": "[encoded data removed]",
      "text/plain": [
       "<Figure size 432x288 with 1 Axes>"
      ]
     },
     "metadata": {
      "needs_background": "light"
     },
     "output_type": "display_data"
    },
    {
     "data": {
      "image/png": "[encoded data removed]",
      "text/plain": [
       "<Figure size 432x288 with 1 Axes>"
      ]
     },
     "metadata": {
      "needs_background": "light"
     },
     "output_type": "display_data"
    },
    {
     "data": {
      "image/png": "[encoded data removed]",
      "text/plain": [
       "<Figure size 432x288 with 1 Axes>"
      ]
     },
     "metadata": {
      "needs_background": "light"
     },
     "output_type": "display_data"
    }
   ],
   "source": [
    "import matplotlib.pyplot as plt\n",
    "%matplotlib inline\n",
    "\n",
    "plt.plot(range(len(train_loss)), train_loss, label=\"train loss\")\n",
    "plt.plot(range(len(valid_loss)), valid_loss, label=\"valid loss\")\n",
    "plt.legend()\n",
    "plt.title(\"Loss\")\n",
    "plt.show()\n",
    "\n",
    "plt.plot(range(len(train_acc)), train_acc, label=\"train accuracy\")\n",
    "plt.plot(range(len(valid_acc)), valid_acc, label=\"valid accuracy\")\n",
    "plt.legend()\n",
    "plt.title(\"Accuracy\")\n",
    "plt.show()\n",
    "\n",
    "plt.plot(range(len(valid_tp)), valid_tp, label=\"valid tp\", color=\"navy\")\n",
    "plt.plot(range(len(valid_tn)), valid_tn, label=\"valid tn\", color=\"red\")\n",
    "plt.legend()\n",
    "plt.title(\"True positives and True Negatives\")\n",
    "plt.show()\n"
   ]
  },
  {
   "cell_type": "code",
   "execution_count": null,
   "metadata": {},
   "outputs": [],
   "source": []
  }
 ],
 "metadata": {
  "kernelspec": {
   "display_name": "Python 3",
   "language": "python",
   "name": "python3"
  },
  "language_info": {
   "codemirror_mode": {
    "name": "ipython",
    "version": 3
   },
   "file_extension": ".py",
   "mimetype": "text/x-python",
   "name": "python",
   "nbconvert_exporter": "python",
   "pygments_lexer": "ipython3",
   "version": "3.7.3"
  }
 },
 "nbformat": 4,
 "nbformat_minor": 2
}
