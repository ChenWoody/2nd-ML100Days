{
 "cells": [
  {
   "cell_type": "markdown",
   "metadata": {},
   "source": [
    "作業1：\n",
    "\n",
    "請上 Kaggle, 在 Competitions 或 Dataset 中找一組競賽或資料並寫下：\n",
    "\n",
    "1. 你選的這組資料為何重要\n",
    "   => https://www.kaggle.com/ronitf/heart-disease-uci\n",
    "   => 可藉由此組資料來推測病患患有心臟疾病的機率\n",
    "   \n",
    "2. 資料從何而來 (tips: 譬如提供者是誰、以什麼方式蒐集)\n",
    "   => 提供者：\n",
    "   A. Hungarian Institute of Cardiology. Budapest: Andras Janosi, M.D. \n",
    "   B. University Hospital, Zurich, Switzerland: William Steinbrunn, M.D. \n",
    "   C. University Hospital, Basel, Switzerland: Matthias Pfisterer, M.D. \n",
    "   D. V.A. Medical Center, Long Beach and Cleveland Clinic Foundation: Robert Detrano, M.D., Ph.D. \n",
    "\n",
    "3. 蒐集而來的資料型態為何\n",
    "   => 結構化資料\n",
    "   1.age：ageage in years\n",
    "   2.sex(1 = male; 0 = female)\n",
    "   3.cp：chest pain type\n",
    "   4.trestbps：resting blood pressure (in mm Hg on admission to the hospital)\n",
    "   5.chol：serum cholestoral in mg/dl\n",
    "   6.fbs：(fasting blood sugar > 120 mg/dl) (1 = true; 0 = false)\n",
    "   7.restecg：resting electrocardiographic results\n",
    "   8.thalach：maximum heart rate achieved\n",
    "   9.exang：exercise induced angina (1 = yes; 0 = no)\n",
    "   10.oldpeak：ST depression induced by exercise relative to rest\n",
    "   11.slope：the slope of the peak exercise ST segment\n",
    "   12.ca：number of major vessels (0-3) colored by flourosopy\n",
    "   13.thal：3 = normal; 6 = fixed defect; 7 = reversable defect\n",
    "\n",
    "4. 這組資料想解決的問題如何評估\n",
    "   => 根據蒐集的資料來建立模型，以便後續根據病人的情況初步推測患有心臟疾病的機率，提供給醫生診斷時參考\n",
    "\n",
    "\n",
    "\n",
    "作業2：\n",
    "\n",
    "想像你經營一個自由載客車隊，你希望能透過數據分析以提升業績，請你思考並描述你如何規劃整體的分析/解決方案：\n",
    "\n",
    "1. 核心問題為何 (tips：如何定義 「提升業績 & 你的假設」)\n",
    "   => 如何提升業績，在耗費最少的成本達到最高的效益\n",
    "   \n",
    "2. 資料從何而來 (tips：哪些資料可能會對你想問的問題產生影響 & 資料如何蒐集)\n",
    "   A.載客距離及耗費時間皆會對業績造成影響\n",
    "   B.藉由建立資料上傳系統來蒐集資料(EX：建立一系統自動將每次載客的相關資料上傳)\n",
    "\n",
    "3. 蒐集而來的資料型態為何\n",
    "   => 結構化資料\n",
    "   A.ID：載客編號\n",
    "   B.Pickup_Time：當次跳表開始時間(年/月/日/時/分/秒)\n",
    "   C.Dropoff_Time：當次停表時間(年/月/日/時/分/秒)\n",
    "   D.Passenger_Count：當次載客人數\n",
    "   E.Pickup_Location：上車地點(經緯度)\n",
    "   F.Dropoff_Location：下車地點(經緯度)\n",
    "   G.Distance：當次載客距離(KM)\n",
    "   \n",
    "4. 你要回答的問題，其如何評估 (tips：你的假設如何驗證)\n",
    "   => 根據收集到的數據分析出載客次數較頻繁的地區，針對該地區增加車次\n",
    "      ，以便增加載客次數及減少空車率，並可減少從其他區域派車所增加的成本\n"
   ]
  },
  {
   "cell_type": "markdown",
   "metadata": {},
   "source": [
    "## 練習時間\n",
    "#### 請寫一個函式用來計算 Mean Square Error\n",
    "$ MSE = \\frac{1}{n}\\sum_{i=1}^{n}{(Y_i - \\hat{Y}_i)^2} $\n",
    "\n",
    "### Hint: [如何取平方](https://googoodesign.gitbooks.io/-ezpython/unit-1.html)"
   ]
  },
  {
   "cell_type": "code",
   "execution_count": 17,
   "metadata": {
    "collapsed": true
   },
   "outputs": [],
   "source": [
    "import numpy as np\n",
    "import matplotlib.pyplot as plt"
   ]
  },
  {
   "cell_type": "code",
   "execution_count": 18,
   "metadata": {
    "collapsed": true
   },
   "outputs": [],
   "source": [
    "def mean_squared_error(y, yp):\n",
    "    \"\"\"\n",
    "    請完成這個 Function 後往下執行\n",
    "    \"\"\"\n",
    "    MSE = sum((y - yp) ** 2) / len(y)\n",
    "    return MSE\n"
   ]
  },
  {
   "cell_type": "code",
   "execution_count": 19,
   "metadata": {
    "collapsed": true
   },
   "outputs": [],
   "source": [
    "def mean_absolute_error(y, yp):\n",
    "    \"\"\"\n",
    "    計算 MAE\n",
    "    Args:\n",
    "        - y: 實際值\n",
    "        - yp: 預測值\n",
    "    Return:\n",
    "        - mae: MAE\n",
    "    \"\"\"\n",
    "    mae = MAE = sum(abs(y - yp)) / len(y)\n",
    "    return mae"
   ]
  },
  {
   "cell_type": "code",
   "execution_count": 20,
   "metadata": {},
   "outputs": [
    {
     "data": {
      "image/png": "[encoded data removed]",
      "text/plain": [
       "<matplotlib.figure.Figure at 0x9156198>"
      ]
     },
     "metadata": {},
     "output_type": "display_data"
    }
   ],
   "source": [
    "w = 3\n",
    "b = 0.5\n",
    "\n",
    "x_lin = np.linspace(0, 100, 101)\n",
    "\n",
    "y = (x_lin + np.random.randn(101) * 5) * w + b\n",
    "\n",
    "plt.plot(x_lin, y, 'b.', label = 'data points')\n",
    "plt.title(\"Assume we have data points\")\n",
    "plt.legend(loc = 2)\n",
    "plt.show()"
   ]
  },
  {
   "cell_type": "code",
   "execution_count": 21,
   "metadata": {},
   "outputs": [
    {
     "data": {
      "image/png": "[encoded data removed]",
      "text/plain": [
       "<matplotlib.figure.Figure at 0x90ee6d8>"
      ]
     },
     "metadata": {},
     "output_type": "display_data"
    }
   ],
   "source": [
    "y_hat = x_lin * w + b\n",
    "plt.plot(x_lin, y, 'b.', label = 'data')\n",
    "plt.plot(x_lin, y_hat, 'r-', label = 'prediction')\n",
    "plt.title(\"Assume we have data points (And the prediction)\")\n",
    "plt.legend(loc = 2)\n",
    "plt.show()"
   ]
  },
  {
   "cell_type": "code",
   "execution_count": 22,
   "metadata": {},
   "outputs": [
    {
     "name": "stdout",
     "output_type": "stream",
     "text": [
      "The Mean squared error is 202.196\n",
      "The Mean absolute error is 11.354\n"
     ]
    }
   ],
   "source": [
    "# 執行 Function, 確認有沒有正常執行\n",
    "MSE = mean_squared_error(y, y_hat)\n",
    "MAE = mean_absolute_error(y, y_hat)\n",
    "print(\"The Mean squared error is %.3f\" % (MSE))\n",
    "print(\"The Mean absolute error is %.3f\" % (MAE))"
   ]
  },
  {
   "cell_type": "code",
   "execution_count": null,
   "metadata": {
    "collapsed": true
   },
   "outputs": [],
   "source": []
  }
 ],
 "metadata": {
  "anaconda-cloud": {},
  "kernelspec": {
   "display_name": "Python 3",
   "language": "python",
   "name": "python3"
  },
  "language_info": {
   "codemirror_mode": {
    "name": "ipython",
    "version": 3
   },
   "file_extension": ".py",
   "mimetype": "text/x-python",
   "name": "python",
   "nbconvert_exporter": "python",
   "pygments_lexer": "ipython3",
   "version": "3.6.3"
  }
 },
 "nbformat": 4,
 "nbformat_minor": 1
}
