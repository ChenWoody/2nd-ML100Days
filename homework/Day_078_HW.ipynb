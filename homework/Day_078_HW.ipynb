{
 "cells": [
  {
   "cell_type": "markdown",
   "metadata": {},
   "source": [
    "## Work\n",
    "1. 請嘗試將 preproc_x 替換成以每筆資料的 min/max 進行標準化至 -1 ~ 1 間，再進行訓練\n",
    "2. 請嘗試將 mlp 疊更深 (e.g 5~10 層)，進行訓練後觀察 learning curve 的走勢\n",
    "3. (optional) 請改用 GPU 進行訓練 (如果你有 GPU 的話)，比較使用 CPU 與 GPU 的訓練速度"
   ]
  },
  {
   "cell_type": "code",
   "execution_count": 1,
   "metadata": {},
   "outputs": [],
   "source": [
    "## \n",
    "\"\"\"\n",
    "Your code here (optional)\n",
    "確認硬體資源\n",
    "\"\"\"\n"
   ]
  },
  {
   "cell_type": "code",
   "execution_count": 2,
   "metadata": {},
   "outputs": [
    {
     "name": "stderr",
     "output_type": "stream",
     "text": [
      "Using TensorFlow backend.\n"
     ]
    }
   ],
   "source": [
    "import os\n",
    "import keras\n",
    "\n",
    "# 請嘗試設定 GPU：os.environ\n"
   ]
  },
  {
   "cell_type": "code",
   "execution_count": 3,
   "metadata": {},
   "outputs": [],
   "source": [
    "train, test = keras.datasets.cifar10.load_data()"
   ]
  },
  {
   "cell_type": "code",
   "execution_count": 4,
   "metadata": {},
   "outputs": [],
   "source": [
    "## 資料前處理\n",
    "\"\"\"\n",
    "Your code here\n",
    "\"\"\"\n",
    "def preproc_x(x):\n",
    "    max = x.max()\n",
    "    min = x.min()\n",
    "    x = (x-min)/(max-min)\n",
    "    x = x.reshape((len(x), -1))\n",
    "    return x\n",
    "\n",
    "def preproc_y(y, num_classes = 10):\n",
    "    if y.shape[-1] == 1:\n",
    "        y = keras.utils.to_categorical(y, num_classes)\n",
    "    return y  "
   ]
  },
  {
   "cell_type": "code",
   "execution_count": 5,
   "metadata": {},
   "outputs": [],
   "source": [
    "x_train, y_train = train\n",
    "x_test, y_test = test\n",
    "\n",
    "# Preproc the inputs\n",
    "x_train = preproc_x(x_train)\n",
    "x_test = preproc_x(x_test)\n",
    "\n",
    "# Preprc the outputs\n",
    "y_train = preproc_y(y_train)\n",
    "y_test = preproc_y(y_test)"
   ]
  },
  {
   "cell_type": "code",
   "execution_count": 8,
   "metadata": {},
   "outputs": [
    {
     "name": "stderr",
     "output_type": "stream",
     "text": [
      "WARNING: Logging before flag parsing goes to stderr.\n",
      "W0729 22:57:57.197920  2424 deprecation_wrapper.py:119] From C:\\Anaconda3\\lib\\site-packages\\keras\\backend\\tensorflow_backend.py:74: The name tf.get_default_graph is deprecated. Please use tf.compat.v1.get_default_graph instead.\n",
      "\n",
      "W0729 22:57:57.218921  2424 deprecation_wrapper.py:119] From C:\\Anaconda3\\lib\\site-packages\\keras\\backend\\tensorflow_backend.py:517: The name tf.placeholder is deprecated. Please use tf.compat.v1.placeholder instead.\n",
      "\n",
      "W0729 22:57:57.222921  2424 deprecation_wrapper.py:119] From C:\\Anaconda3\\lib\\site-packages\\keras\\backend\\tensorflow_backend.py:4138: The name tf.random_uniform is deprecated. Please use tf.random.uniform instead.\n",
      "\n"
     ]
    },
    {
     "name": "stdout",
     "output_type": "stream",
     "text": [
      "_________________________________________________________________\n",
      "Layer (type)                 Output Shape              Param #   \n",
      "=================================================================\n",
      "input_1 (InputLayer)         (None, 3072)              0         \n",
      "_________________________________________________________________\n",
      "hidden_layer1 (Dense)        (None, 512)               1573376   \n",
      "_________________________________________________________________\n",
      "hidden_layer2 (Dense)        (None, 512)               262656    \n",
      "_________________________________________________________________\n",
      "hidden_layer3 (Dense)        (None, 256)               131328    \n",
      "_________________________________________________________________\n",
      "hidden_layer4 (Dense)        (None, 256)               65792     \n",
      "_________________________________________________________________\n",
      "hidden_layer5 (Dense)        (None, 128)               32896     \n",
      "_________________________________________________________________\n",
      "hidden_layer6 (Dense)        (None, 128)               16512     \n",
      "_________________________________________________________________\n",
      "hidden_layer7 (Dense)        (None, 64)                8256      \n",
      "_________________________________________________________________\n",
      "hidden_layer8 (Dense)        (None, 64)                4160      \n",
      "_________________________________________________________________\n",
      "output (Dense)               (None, 10)                650       \n",
      "=================================================================\n",
      "Total params: 2,095,626\n",
      "Trainable params: 2,095,626\n",
      "Non-trainable params: 0\n",
      "_________________________________________________________________\n"
     ]
    }
   ],
   "source": [
    "#建立你的神經網路\n",
    "\n",
    "def build_mlp(input_shape, output_units=10, num_neurons=[512, 512, 256, 256, 128, 128, 64, 64]):\n",
    "    input_layer = keras.layers.Input(input_shape)\n",
    "    \n",
    "    for i, n_units in enumerate(num_neurons):\n",
    "        if i == 0:\n",
    "            x = keras.layers.Dense(units=n_units, activation=\"relu\", name=\"hidden_layer\"+str(i+1))(input_layer)\n",
    "        else:\n",
    "            x = keras.layers.Dense(units=n_units, activation=\"relu\", name=\"hidden_layer\"+str(i+1))(x)\n",
    "    \n",
    "    out = keras.layers.Dense(units=output_units, activation=\"softmax\", name=\"output\")(x)\n",
    "    \n",
    "    model = keras.models.Model(inputs=[input_layer], outputs=[out])\n",
    "    return model\n",
    "    \n",
    "model = build_mlp(input_shape=x_train.shape[1:])    \n",
    "model.summary()"
   ]
  },
  {
   "cell_type": "code",
   "execution_count": 9,
   "metadata": {},
   "outputs": [],
   "source": [
    "## 超參數設定\n",
    "LEARNING_RATE = 0.001\n",
    "EPOCHS = 100\n",
    "BATCH_SIZE = 256"
   ]
  },
  {
   "cell_type": "code",
   "execution_count": 10,
   "metadata": {},
   "outputs": [
    {
     "name": "stderr",
     "output_type": "stream",
     "text": [
      "W0729 22:58:06.352443  2424 deprecation_wrapper.py:119] From C:\\Anaconda3\\lib\\site-packages\\keras\\optimizers.py:790: The name tf.train.Optimizer is deprecated. Please use tf.compat.v1.train.Optimizer instead.\n",
      "\n",
      "W0729 22:58:06.362444  2424 deprecation_wrapper.py:119] From C:\\Anaconda3\\lib\\site-packages\\keras\\backend\\tensorflow_backend.py:3295: The name tf.log is deprecated. Please use tf.math.log instead.\n",
      "\n"
     ]
    }
   ],
   "source": [
    "optimizer = keras.optimizers.Adam(lr=LEARNING_RATE)\n",
    "model.compile(loss=\"categorical_crossentropy\", metrics=[\"accuracy\"], optimizer=optimizer)"
   ]
  },
  {
   "cell_type": "code",
   "execution_count": 11,
   "metadata": {},
   "outputs": [
    {
     "name": "stderr",
     "output_type": "stream",
     "text": [
      "W0729 22:58:08.786582  2424 deprecation.py:323] From C:\\Anaconda3\\lib\\site-packages\\tensorflow\\python\\ops\\math_grad.py:1250: add_dispatch_support.<locals>.wrapper (from tensorflow.python.ops.array_ops) is deprecated and will be removed in a future version.\n",
      "Instructions for updating:\n",
      "Use tf.where in 2.0, which has the same broadcast rule as np.where\n",
      "W0729 22:58:08.928591  2424 deprecation_wrapper.py:119] From C:\\Anaconda3\\lib\\site-packages\\keras\\backend\\tensorflow_backend.py:986: The name tf.assign_add is deprecated. Please use tf.compat.v1.assign_add instead.\n",
      "\n"
     ]
    },
    {
     "name": "stdout",
     "output_type": "stream",
     "text": [
      "Train on 50000 samples, validate on 10000 samples\n",
      "Epoch 1/100\n",
      "50000/50000 [==============================] - 14s 278us/step - loss: 1.9966 - acc: 0.2548 - val_loss: 1.8571 - val_acc: 0.3193\n",
      "Epoch 2/100\n",
      "50000/50000 [==============================] - 14s 273us/step - loss: 1.7762 - acc: 0.3555 - val_loss: 1.7020 - val_acc: 0.3799\n",
      "Epoch 3/100\n",
      "50000/50000 [==============================] - 14s 271us/step - loss: 1.6759 - acc: 0.3933 - val_loss: 1.6188 - val_acc: 0.4159\n",
      "Epoch 4/100\n",
      "50000/50000 [==============================] - 15s 300us/step - loss: 1.6060 - acc: 0.4220 - val_loss: 1.5981 - val_acc: 0.4309\n",
      "Epoch 5/100\n",
      "50000/50000 [==============================] - 14s 273us/step - loss: 1.5420 - acc: 0.4454 - val_loss: 1.5755 - val_acc: 0.4313\n",
      "Epoch 6/100\n",
      "50000/50000 [==============================] - 13s 252us/step - loss: 1.4982 - acc: 0.4646 - val_loss: 1.5711 - val_acc: 0.4398\n",
      "Epoch 7/100\n",
      "50000/50000 [==============================] - 12s 242us/step - loss: 1.4724 - acc: 0.4713 - val_loss: 1.4742 - val_acc: 0.4766\n",
      "Epoch 8/100\n",
      "50000/50000 [==============================] - 14s 286us/step - loss: 1.4263 - acc: 0.4894 - val_loss: 1.5941 - val_acc: 0.4227\n",
      "Epoch 9/100\n",
      "50000/50000 [==============================] - 16s 324us/step - loss: 1.3902 - acc: 0.5009 - val_loss: 1.4298 - val_acc: 0.4883\n",
      "Epoch 10/100\n",
      "50000/50000 [==============================] - 18s 354us/step - loss: 1.3687 - acc: 0.5066 - val_loss: 1.4226 - val_acc: 0.4973\n",
      "Epoch 11/100\n",
      "50000/50000 [==============================] - 14s 290us/step - loss: 1.3339 - acc: 0.5198 - val_loss: 1.4552 - val_acc: 0.4777\n",
      "Epoch 12/100\n",
      "50000/50000 [==============================] - 13s 269us/step - loss: 1.3007 - acc: 0.5349 - val_loss: 1.4344 - val_acc: 0.4917\n",
      "Epoch 13/100\n",
      "50000/50000 [==============================] - 15s 293us/step - loss: 1.2827 - acc: 0.5391 - val_loss: 1.4323 - val_acc: 0.4979\n",
      "Epoch 14/100\n",
      "50000/50000 [==============================] - 15s 305us/step - loss: 1.2596 - acc: 0.5483 - val_loss: 1.3846 - val_acc: 0.5092\n",
      "Epoch 15/100\n",
      "50000/50000 [==============================] - 14s 274us/step - loss: 1.2210 - acc: 0.5612 - val_loss: 1.4203 - val_acc: 0.5039\n",
      "Epoch 16/100\n",
      "50000/50000 [==============================] - 14s 283us/step - loss: 1.1879 - acc: 0.5741 - val_loss: 1.4012 - val_acc: 0.5108\n",
      "Epoch 17/100\n",
      "50000/50000 [==============================] - 19s 382us/step - loss: 1.1583 - acc: 0.5831 - val_loss: 1.4238 - val_acc: 0.5076\n",
      "Epoch 18/100\n",
      "50000/50000 [==============================] - 17s 337us/step - loss: 1.1316 - acc: 0.5939 - val_loss: 1.4077 - val_acc: 0.5060\n",
      "Epoch 19/100\n",
      "50000/50000 [==============================] - 15s 292us/step - loss: 1.0992 - acc: 0.6053 - val_loss: 1.4276 - val_acc: 0.5096\n",
      "Epoch 20/100\n",
      "50000/50000 [==============================] - 13s 269us/step - loss: 1.0798 - acc: 0.6120 - val_loss: 1.4087 - val_acc: 0.5194\n",
      "Epoch 21/100\n",
      "50000/50000 [==============================] - 13s 270us/step - loss: 1.0509 - acc: 0.6211 - val_loss: 1.4265 - val_acc: 0.5207\n",
      "Epoch 22/100\n",
      "50000/50000 [==============================] - 13s 268us/step - loss: 1.0131 - acc: 0.6364 - val_loss: 1.4938 - val_acc: 0.5068\n",
      "Epoch 23/100\n",
      "50000/50000 [==============================] - 13s 268us/step - loss: 0.9811 - acc: 0.6459 - val_loss: 1.4527 - val_acc: 0.5152\n",
      "Epoch 24/100\n",
      "50000/50000 [==============================] - 13s 267us/step - loss: 0.9626 - acc: 0.6537 - val_loss: 1.4702 - val_acc: 0.5168\n",
      "Epoch 25/100\n",
      "50000/50000 [==============================] - 14s 271us/step - loss: 0.9363 - acc: 0.6660 - val_loss: 1.4825 - val_acc: 0.5190\n",
      "Epoch 26/100\n",
      "50000/50000 [==============================] - 15s 300us/step - loss: 0.8970 - acc: 0.6774 - val_loss: 1.5259 - val_acc: 0.5115\n",
      "Epoch 27/100\n",
      "50000/50000 [==============================] - 14s 282us/step - loss: 0.8689 - acc: 0.6874 - val_loss: 1.5623 - val_acc: 0.5220\n",
      "Epoch 28/100\n",
      "50000/50000 [==============================] - 14s 277us/step - loss: 0.8417 - acc: 0.6969 - val_loss: 1.6112 - val_acc: 0.5067\n",
      "Epoch 29/100\n",
      "50000/50000 [==============================] - 15s 303us/step - loss: 0.8171 - acc: 0.7066 - val_loss: 1.6300 - val_acc: 0.5049\n",
      "Epoch 30/100\n",
      "50000/50000 [==============================] - 15s 301us/step - loss: 0.7909 - acc: 0.7150 - val_loss: 1.6911 - val_acc: 0.5104\n",
      "Epoch 31/100\n",
      "50000/50000 [==============================] - 13s 266us/step - loss: 0.7522 - acc: 0.7300 - val_loss: 1.6890 - val_acc: 0.5160\n",
      "Epoch 32/100\n",
      "50000/50000 [==============================] - 13s 264us/step - loss: 0.7271 - acc: 0.7389 - val_loss: 1.8024 - val_acc: 0.4996\n",
      "Epoch 33/100\n",
      "50000/50000 [==============================] - 13s 262us/step - loss: 0.7045 - acc: 0.7473 - val_loss: 1.7765 - val_acc: 0.5092\n",
      "Epoch 34/100\n",
      "50000/50000 [==============================] - 13s 260us/step - loss: 0.6860 - acc: 0.7528 - val_loss: 1.8513 - val_acc: 0.5006\n",
      "Epoch 35/100\n",
      "50000/50000 [==============================] - 13s 267us/step - loss: 0.6685 - acc: 0.7613 - val_loss: 1.8807 - val_acc: 0.4971\n",
      "Epoch 36/100\n",
      "50000/50000 [==============================] - 14s 287us/step - loss: 0.6346 - acc: 0.7724 - val_loss: 1.8675 - val_acc: 0.5053\n",
      "Epoch 37/100\n",
      "50000/50000 [==============================] - 14s 277us/step - loss: 0.6129 - acc: 0.7806 - val_loss: 1.9287 - val_acc: 0.5084\n",
      "Epoch 38/100\n",
      "50000/50000 [==============================] - 14s 273us/step - loss: 0.5921 - acc: 0.7883 - val_loss: 1.9433 - val_acc: 0.5062\n",
      "Epoch 39/100\n",
      "50000/50000 [==============================] - 13s 264us/step - loss: 0.5711 - acc: 0.7975 - val_loss: 1.9983 - val_acc: 0.5082\n",
      "Epoch 40/100\n",
      "50000/50000 [==============================] - 14s 278us/step - loss: 0.5590 - acc: 0.8002 - val_loss: 1.9682 - val_acc: 0.5071\n",
      "Epoch 41/100\n",
      "50000/50000 [==============================] - 14s 288us/step - loss: 0.5293 - acc: 0.8112 - val_loss: 2.1698 - val_acc: 0.5066\n",
      "Epoch 42/100\n",
      "50000/50000 [==============================] - 15s 310us/step - loss: 0.5150 - acc: 0.8159 - val_loss: 2.1896 - val_acc: 0.4960\n",
      "Epoch 43/100\n",
      "50000/50000 [==============================] - 18s 365us/step - loss: 0.4950 - acc: 0.8235 - val_loss: 2.1899 - val_acc: 0.5042\n",
      "Epoch 44/100\n",
      "50000/50000 [==============================] - 19s 375us/step - loss: 0.4893 - acc: 0.8251 - val_loss: 2.1752 - val_acc: 0.5082\n",
      "Epoch 45/100\n",
      "50000/50000 [==============================] - 14s 277us/step - loss: 0.4713 - acc: 0.8316 - val_loss: 2.2540 - val_acc: 0.5026\n",
      "Epoch 46/100\n",
      "50000/50000 [==============================] - 14s 274us/step - loss: 0.4512 - acc: 0.8385 - val_loss: 2.3596 - val_acc: 0.4980\n",
      "Epoch 47/100\n",
      "50000/50000 [==============================] - 13s 269us/step - loss: 0.4357 - acc: 0.8461 - val_loss: 2.2947 - val_acc: 0.5012\n",
      "Epoch 48/100\n",
      "50000/50000 [==============================] - 14s 271us/step - loss: 0.4323 - acc: 0.8457 - val_loss: 2.4664 - val_acc: 0.4946\n",
      "Epoch 49/100\n",
      "50000/50000 [==============================] - 14s 272us/step - loss: 0.3997 - acc: 0.8587 - val_loss: 2.4366 - val_acc: 0.4994\n",
      "Epoch 50/100\n",
      "50000/50000 [==============================] - 14s 270us/step - loss: 0.4139 - acc: 0.8538 - val_loss: 2.4179 - val_acc: 0.4943\n",
      "Epoch 51/100\n",
      "50000/50000 [==============================] - 13s 270us/step - loss: 0.3926 - acc: 0.8619 - val_loss: 2.4551 - val_acc: 0.5020\n",
      "Epoch 52/100\n",
      "50000/50000 [==============================] - 14s 271us/step - loss: 0.3837 - acc: 0.8648 - val_loss: 2.5637 - val_acc: 0.4999\n",
      "Epoch 53/100\n",
      "50000/50000 [==============================] - 16s 316us/step - loss: 0.3650 - acc: 0.8698 - val_loss: 2.5821 - val_acc: 0.4944\n",
      "Epoch 54/100\n",
      "50000/50000 [==============================] - 15s 307us/step - loss: 0.3442 - acc: 0.8785 - val_loss: 2.5231 - val_acc: 0.5022\n",
      "Epoch 55/100\n",
      "50000/50000 [==============================] - 15s 297us/step - loss: 0.3437 - acc: 0.8774 - val_loss: 2.7146 - val_acc: 0.4952\n",
      "Epoch 56/100\n",
      "50000/50000 [==============================] - 16s 317us/step - loss: 0.3399 - acc: 0.8796 - val_loss: 2.7621 - val_acc: 0.4976\n",
      "Epoch 57/100\n",
      "50000/50000 [==============================] - 15s 293us/step - loss: 0.3277 - acc: 0.8853 - val_loss: 2.7034 - val_acc: 0.4978\n",
      "Epoch 58/100\n",
      "50000/50000 [==============================] - 12s 238us/step - loss: 0.3135 - acc: 0.8881 - val_loss: 2.7327 - val_acc: 0.4956\n"
     ]
    },
    {
     "name": "stdout",
     "output_type": "stream",
     "text": [
      "Epoch 59/100\n",
      "50000/50000 [==============================] - 12s 241us/step - loss: 0.3150 - acc: 0.8901 - val_loss: 2.7626 - val_acc: 0.4905\n",
      "Epoch 60/100\n",
      "50000/50000 [==============================] - 12s 241us/step - loss: 0.2961 - acc: 0.8953 - val_loss: 2.8961 - val_acc: 0.4960\n",
      "Epoch 61/100\n",
      "50000/50000 [==============================] - 13s 270us/step - loss: 0.3079 - acc: 0.8918 - val_loss: 2.7901 - val_acc: 0.4971\n",
      "Epoch 62/100\n",
      "50000/50000 [==============================] - 15s 293us/step - loss: 0.2875 - acc: 0.8993 - val_loss: 2.8861 - val_acc: 0.4965\n",
      "Epoch 63/100\n",
      "50000/50000 [==============================] - 13s 255us/step - loss: 0.2850 - acc: 0.8986 - val_loss: 2.9397 - val_acc: 0.4910\n",
      "Epoch 64/100\n",
      "50000/50000 [==============================] - 13s 267us/step - loss: 0.2726 - acc: 0.9052 - val_loss: 2.8539 - val_acc: 0.4981\n",
      "Epoch 65/100\n",
      "50000/50000 [==============================] - 12s 245us/step - loss: 0.2806 - acc: 0.9033 - val_loss: 2.7768 - val_acc: 0.4976\n",
      "Epoch 66/100\n",
      "50000/50000 [==============================] - 13s 255us/step - loss: 0.2642 - acc: 0.9074 - val_loss: 3.0150 - val_acc: 0.4946\n",
      "Epoch 67/100\n",
      "50000/50000 [==============================] - 13s 268us/step - loss: 0.2576 - acc: 0.9099 - val_loss: 2.8970 - val_acc: 0.4898\n",
      "Epoch 68/100\n",
      "50000/50000 [==============================] - 14s 274us/step - loss: 0.2468 - acc: 0.9133 - val_loss: 3.0745 - val_acc: 0.5006\n",
      "Epoch 69/100\n",
      "50000/50000 [==============================] - 12s 242us/step - loss: 0.2696 - acc: 0.9067 - val_loss: 2.7639 - val_acc: 0.4969\n",
      "Epoch 70/100\n",
      "50000/50000 [==============================] - 12s 241us/step - loss: 0.2419 - acc: 0.9150 - val_loss: 2.9640 - val_acc: 0.4974\n",
      "Epoch 71/100\n",
      "50000/50000 [==============================] - 12s 238us/step - loss: 0.2428 - acc: 0.9164 - val_loss: 2.8213 - val_acc: 0.4969\n",
      "Epoch 72/100\n",
      "50000/50000 [==============================] - 12s 237us/step - loss: 0.2240 - acc: 0.9216 - val_loss: 3.2028 - val_acc: 0.4961\n",
      "Epoch 73/100\n",
      "50000/50000 [==============================] - 13s 252us/step - loss: 0.2288 - acc: 0.9204 - val_loss: 2.9644 - val_acc: 0.4855\n",
      "Epoch 74/100\n",
      "50000/50000 [==============================] - 12s 235us/step - loss: 0.2345 - acc: 0.9192 - val_loss: 3.1486 - val_acc: 0.5002\n",
      "Epoch 75/100\n",
      "50000/50000 [==============================] - 12s 238us/step - loss: 0.2267 - acc: 0.9219 - val_loss: 3.1782 - val_acc: 0.4880\n",
      "Epoch 76/100\n",
      "50000/50000 [==============================] - 12s 240us/step - loss: 0.2342 - acc: 0.9188 - val_loss: 2.9816 - val_acc: 0.4899\n",
      "Epoch 77/100\n",
      "50000/50000 [==============================] - 12s 241us/step - loss: 0.2153 - acc: 0.9245 - val_loss: 3.1433 - val_acc: 0.4911\n",
      "Epoch 78/100\n",
      "50000/50000 [==============================] - 12s 237us/step - loss: 0.2211 - acc: 0.9219 - val_loss: 3.0987 - val_acc: 0.4933\n",
      "Epoch 79/100\n",
      "50000/50000 [==============================] - 12s 236us/step - loss: 0.2234 - acc: 0.9212 - val_loss: 3.0821 - val_acc: 0.5107\n",
      "Epoch 80/100\n",
      "50000/50000 [==============================] - 12s 235us/step - loss: 0.2020 - acc: 0.9296 - val_loss: 3.2069 - val_acc: 0.4992\n",
      "Epoch 81/100\n",
      "50000/50000 [==============================] - 12s 235us/step - loss: 0.1849 - acc: 0.9369 - val_loss: 3.2967 - val_acc: 0.4855\n",
      "Epoch 82/100\n",
      "50000/50000 [==============================] - 12s 236us/step - loss: 0.1988 - acc: 0.9319 - val_loss: 3.3443 - val_acc: 0.4845\n",
      "Epoch 83/100\n",
      "50000/50000 [==============================] - 12s 236us/step - loss: 0.1978 - acc: 0.9311 - val_loss: 3.1895 - val_acc: 0.4958\n",
      "Epoch 84/100\n",
      "50000/50000 [==============================] - 12s 237us/step - loss: 0.1923 - acc: 0.9345 - val_loss: 3.2569 - val_acc: 0.5034\n",
      "Epoch 85/100\n",
      "50000/50000 [==============================] - 12s 236us/step - loss: 0.2052 - acc: 0.9282 - val_loss: 3.2606 - val_acc: 0.4949\n",
      "Epoch 86/100\n",
      "50000/50000 [==============================] - 13s 256us/step - loss: 0.1841 - acc: 0.9369 - val_loss: 3.4021 - val_acc: 0.4927\n",
      "Epoch 87/100\n",
      "50000/50000 [==============================] - 14s 275us/step - loss: 0.1912 - acc: 0.9342 - val_loss: 3.2366 - val_acc: 0.4967\n",
      "Epoch 88/100\n",
      "50000/50000 [==============================] - 12s 237us/step - loss: 0.1783 - acc: 0.9377 - val_loss: 3.2922 - val_acc: 0.4900\n",
      "Epoch 89/100\n",
      "50000/50000 [==============================] - 12s 238us/step - loss: 0.1928 - acc: 0.9344 - val_loss: 3.2595 - val_acc: 0.4980\n",
      "Epoch 90/100\n",
      "50000/50000 [==============================] - 12s 236us/step - loss: 0.1906 - acc: 0.9352 - val_loss: 3.2568 - val_acc: 0.4983\n",
      "Epoch 91/100\n",
      "50000/50000 [==============================] - 12s 238us/step - loss: 0.1751 - acc: 0.9396 - val_loss: 3.2215 - val_acc: 0.5036\n",
      "Epoch 92/100\n",
      "50000/50000 [==============================] - 12s 238us/step - loss: 0.1699 - acc: 0.9413 - val_loss: 3.4316 - val_acc: 0.4995\n",
      "Epoch 93/100\n",
      "50000/50000 [==============================] - 12s 236us/step - loss: 0.1640 - acc: 0.9441 - val_loss: 3.5009 - val_acc: 0.4998\n",
      "Epoch 94/100\n",
      "50000/50000 [==============================] - 12s 235us/step - loss: 0.1728 - acc: 0.9407 - val_loss: 3.4069 - val_acc: 0.4953\n",
      "Epoch 95/100\n",
      "50000/50000 [==============================] - 12s 239us/step - loss: 0.1716 - acc: 0.9410 - val_loss: 3.3296 - val_acc: 0.4958\n",
      "Epoch 96/100\n",
      "50000/50000 [==============================] - 12s 237us/step - loss: 0.1675 - acc: 0.9428 - val_loss: 3.3386 - val_acc: 0.4956\n",
      "Epoch 97/100\n",
      "50000/50000 [==============================] - 12s 238us/step - loss: 0.1717 - acc: 0.9413 - val_loss: 3.3448 - val_acc: 0.4892\n",
      "Epoch 98/100\n",
      "50000/50000 [==============================] - 12s 248us/step - loss: 0.1591 - acc: 0.9457 - val_loss: 3.3502 - val_acc: 0.4957\n",
      "Epoch 99/100\n",
      "50000/50000 [==============================] - 12s 237us/step - loss: 0.1553 - acc: 0.9460 - val_loss: 3.4181 - val_acc: 0.5035\n",
      "Epoch 100/100\n",
      "50000/50000 [==============================] - 12s 236us/step - loss: 0.1550 - acc: 0.9461 - val_loss: 3.4133 - val_acc: 0.4934\n"
     ]
    },
    {
     "data": {
      "text/plain": [
       "<keras.callbacks.History at 0xe65ac50>"
      ]
     },
     "execution_count": 11,
     "metadata": {},
     "output_type": "execute_result"
    }
   ],
   "source": [
    "model.fit(x_train, y_train, \n",
    "          epochs=EPOCHS, \n",
    "          batch_size=BATCH_SIZE, \n",
    "          validation_data=(x_test, y_test), \n",
    "          shuffle=True)"
   ]
  },
  {
   "cell_type": "code",
   "execution_count": 12,
   "metadata": {},
   "outputs": [
    {
     "data": {
      "image/png": "[encoded data removed]",
      "text/plain": [
       "<Figure size 432x288 with 1 Axes>"
      ]
     },
     "metadata": {
      "needs_background": "light"
     },
     "output_type": "display_data"
    },
    {
     "data": {
      "image/png": "[encoded data removed]",
      "text/plain": [
       "<Figure size 432x288 with 1 Axes>"
      ]
     },
     "metadata": {
      "needs_background": "light"
     },
     "output_type": "display_data"
    }
   ],
   "source": [
    "import matplotlib.pyplot as plt\n",
    "%matplotlib inline\n",
    "\n",
    "train_loss = model.history.history[\"loss\"]\n",
    "valid_loss = model.history.history[\"val_loss\"]\n",
    "\n",
    "train_acc = model.history.history[\"acc\"]\n",
    "valid_acc = model.history.history[\"val_acc\"]\n",
    "\n",
    "plt.plot(range(len(train_loss)), train_loss, label=\"train loss\")\n",
    "plt.plot(range(len(valid_loss)), valid_loss, label=\"valid loss\")\n",
    "plt.legend()\n",
    "plt.title(\"Loss\")\n",
    "plt.show()\n",
    "\n",
    "plt.plot(range(len(train_acc)), train_acc, label=\"train accuracy\")\n",
    "plt.plot(range(len(valid_acc)), valid_acc, label=\"valid accuracy\")\n",
    "plt.legend()\n",
    "plt.title(\"Accuracy\")\n",
    "plt.show()"
   ]
  },
  {
   "cell_type": "code",
   "execution_count": null,
   "metadata": {},
   "outputs": [],
   "source": []
  }
 ],
 "metadata": {
  "kernelspec": {
   "display_name": "Python 3",
   "language": "python",
   "name": "python3"
  },
  "language_info": {
   "codemirror_mode": {
    "name": "ipython",
    "version": 3
   },
   "file_extension": ".py",
   "mimetype": "text/x-python",
   "name": "python",
   "nbconvert_exporter": "python",
   "pygments_lexer": "ipython3",
   "version": "3.7.3"
  }
 },
 "nbformat": 4,
 "nbformat_minor": 2
}
