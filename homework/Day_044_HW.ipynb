{
 "cells": [
  {
   "cell_type": "markdown",
   "metadata": {},
   "source": [
    "## [作業重點]\n",
    "確保你了解隨機森林模型中每個超參數的意義，並觀察調整超參數對結果的影響"
   ]
  },
  {
   "cell_type": "markdown",
   "metadata": {},
   "source": [
    "## 作業\n",
    "\n",
    "1. 試著調整 RandomForestClassifier(...) 中的參數，並觀察是否會改變結果？\n",
    "2. 改用其他資料集 (boston, wine)，並與回歸模型與決策樹的結果進行比較"
   ]
  },
  {
   "cell_type": "code",
   "execution_count": 122,
   "metadata": {
    "collapsed": true
   },
   "outputs": [],
   "source": [
    "from sklearn import datasets, metrics\n",
    "from sklearn.ensemble import RandomForestClassifier, RandomForestRegressor\n",
    "from sklearn.model_selection import train_test_split"
   ]
  },
  {
   "cell_type": "code",
   "execution_count": 123,
   "metadata": {},
   "outputs": [],
   "source": [
    "boston = datasets.load_boston()\n",
    "wine = datasets.load_wine()\n",
    "\n",
    "boston_train_x, boston_test_x, boston_train_y, boston_test_y = train_test_split(boston.data, boston.target, test_size = 0.3, random_state = 4)\n",
    "wine_train_x, wine_test_x, wine_train_y, wine_test_y = train_test_split(wine.data, wine.target, test_size = 0.3, random_state = 4)\n"
   ]
  },
  {
   "cell_type": "code",
   "execution_count": 124,
   "metadata": {},
   "outputs": [
    {
     "name": "stdout",
     "output_type": "stream",
     "text": [
      "Accuracy of Random Tree Classifier(Boston):  0.138157894737\n",
      "[ 0.10117116  0.02492989  0.06181907  0.01226749  0.0992534   0.12385627\n",
      "  0.08221927  0.07643943  0.01993023  0.03176744  0.05877173  0.04722438\n",
      "  0.26035023]\n"
     ]
    }
   ],
   "source": [
    "cla = RandomForestClassifier(n_estimators=10, min_samples_split=6, max_depth=4)\n",
    "cla.fit(boston_train_x, boston_train_y.astype(int))\n",
    "boston_pred = cla.predict(boston_test_x)\n",
    "boston_acc = metrics.accuracy_score(boston_test_y.astype(int), boston_pred)\n",
    "print(\"Accuracy of Random Tree Classifier(Boston): \", boston_acc)\n",
    "print(cla.feature_importances_)"
   ]
  },
  {
   "cell_type": "code",
   "execution_count": 125,
   "metadata": {},
   "outputs": [
    {
     "name": "stdout",
     "output_type": "stream",
     "text": [
      "Accuracy of Random Tree Regression(Boston):  0.0789473684211\n",
      "[ 0.04411949  0.          0.00376056  0.00115073  0.0048828   0.51050106\n",
      "  0.00361747  0.07890974  0.00252326  0.02086256  0.00728136  0.\n",
      "  0.32239097]\n"
     ]
    }
   ],
   "source": [
    "reg = RandomForestRegressor(n_estimators=10, min_samples_split=10, max_depth=4)\n",
    "reg.fit(boston_train_x, boston_train_y.astype(int))\n",
    "boston_pred2 = reg.predict(boston_test_x)\n",
    "boston_acc2 = metrics.accuracy_score(boston_test_y.astype(int), boston_pred2.astype(int))\n",
    "print(\"Accuracy of Random Tree Regression(Boston): \", boston_acc2)\n",
    "print(reg.feature_importances_)"
   ]
  },
  {
   "cell_type": "code",
   "execution_count": 134,
   "metadata": {},
   "outputs": [
    {
     "name": "stdout",
     "output_type": "stream",
     "text": [
      "Accuracy of Random Tree Classifier(Wine):  1.0\n",
      "[ 0.08418525  0.03275519  0.01497951  0.04826931  0.03008132  0.12710174\n",
      "  0.10683574  0.          0.01421438  0.15184514  0.11902929  0.11719829\n",
      "  0.15350484]\n"
     ]
    }
   ],
   "source": [
    "cla = RandomForestClassifier(n_estimators=10, min_samples_split=10, max_depth=4)\n",
    "cla.fit(wine_train_x, wine_train_y.astype(int))\n",
    "wine_pred = cla.predict(wine_test_x)\n",
    "wine_acc = metrics.accuracy_score(wine_test_y.astype(int), wine_pred)\n",
    "print(\"Accuracy of Random Tree Classifier(Wine): \", wine_acc)\n",
    "print(cla.feature_importances_)"
   ]
  },
  {
   "cell_type": "code",
   "execution_count": 135,
   "metadata": {},
   "outputs": [
    {
     "name": "stdout",
     "output_type": "stream",
     "text": [
      "Accuracy of Random Tree Regression(Wine):  0.87037037037\n",
      "[ 0.00089852  0.00133441  0.          0.          0.00531711  0.\n",
      "  0.38673246  0.          0.          0.13380868  0.          0.16430892\n",
      "  0.30759991]\n"
     ]
    }
   ],
   "source": [
    "reg = RandomForestRegressor(n_estimators=5, min_samples_split=10, max_depth=4)\n",
    "reg.fit(wine_train_x, wine_train_y.astype(int))\n",
    "wine_pred2 = reg.predict(wine_test_x)\n",
    "wine_acc2 = metrics.accuracy_score(wine_test_y.astype(int), wine_pred2.astype(int))\n",
    "print(\"Accuracy of Random Tree Regression(Wine): \", wine_acc2)\n",
    "print(reg.feature_importances_)"
   ]
  },
  {
   "cell_type": "code",
   "execution_count": null,
   "metadata": {
    "collapsed": true
   },
   "outputs": [],
   "source": []
  }
 ],
 "metadata": {
  "kernelspec": {
   "display_name": "Python 3",
   "language": "python",
   "name": "python3"
  },
  "language_info": {
   "codemirror_mode": {
    "name": "ipython",
    "version": 3
   },
   "file_extension": ".py",
   "mimetype": "text/x-python",
   "name": "python",
   "nbconvert_exporter": "python",
   "pygments_lexer": "ipython3",
   "version": "3.6.3"
  }
 },
 "nbformat": 4,
 "nbformat_minor": 2
}
