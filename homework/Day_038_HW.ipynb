{
 "cells": [
  {
   "cell_type": "markdown",
   "metadata": {},
   "source": [
    "## [作業重點]\n",
    "使用 Sklearn 中的線性迴歸模型，來訓練各種資料集，務必了解送進去模型訓練的**資料型態**為何，也請了解模型中各項參數的意義"
   ]
  },
  {
   "cell_type": "markdown",
   "metadata": {},
   "source": [
    "## 作業\n",
    "試著使用 sklearn datasets 的其他資料集 (wine, boston, ...)，來訓練自己的線性迴歸模型。"
   ]
  },
  {
   "cell_type": "markdown",
   "metadata": {},
   "source": [
    "### HINT: 注意 label 的型態，確定資料集的目標是分類還是回歸，在使用正確的模型訓練！"
   ]
  },
  {
   "cell_type": "code",
   "execution_count": 34,
   "metadata": {},
   "outputs": [
    {
     "name": "stdout",
     "output_type": "stream",
     "text": [
      "Wine Accuracy:  0.944444444444\n"
     ]
    }
   ],
   "source": [
    "import numpy as np\n",
    "import matplotlib.pyplot as plt\n",
    "from sklearn import datasets, linear_model\n",
    "from sklearn.model_selection import train_test_split\n",
    "from sklearn.metrics import mean_squared_error, r2_score, accuracy_score\n",
    "\n",
    "wine = datasets.load_wine()\n",
    "boston = datasets.load_boston()\n",
    "breast_cancer = datasets.load_breast_cancer()\n",
    "\n",
    "wine_train_x, wine_test_x, wine_train_y, wine_test_y = train_test_split(wine.data, wine.target, test_size=0.1, random_state=4)\n",
    "\n",
    "logreg = linear_model.LogisticRegression(random_state=0, solver='lbfgs', multi_class='multinomial')\n",
    "logreg.fit(wine_train_x, wine_train_y)\n",
    "pred_y = logreg.predict(wine_test_x)\n",
    "\n",
    "acc = accuracy_score(wine_test_y, pred_y)\n",
    "print(\"Wine Accuracy: \", acc)\n"
   ]
  },
  {
   "cell_type": "code",
   "execution_count": 47,
   "metadata": {},
   "outputs": [
    {
     "name": "stdout",
     "output_type": "stream",
     "text": [
      "Boston Data shape:  (506, 13)\n",
      "Mean squared error for feature 0: 76.00\n",
      "Mean squared error for feature 1: 63.78\n",
      "Mean squared error for feature 2: 63.06\n",
      "Mean squared error for feature 3: 88.06\n",
      "Mean squared error for feature 4: 67.72\n",
      "Mean squared error for feature 5: 32.40\n",
      "Mean squared error for feature 6: 64.85\n",
      "Mean squared error for feature 7: 75.82\n",
      "Mean squared error for feature 8: 68.87\n",
      "Mean squared error for feature 9: 65.46\n",
      "Mean squared error for feature 10: 57.17\n",
      "Mean squared error for feature 11: 72.46\n",
      "Mean squared error for feature 12: 35.54\n"
     ]
    }
   ],
   "source": [
    "linreg = linear_model.LinearRegression()\n",
    "print(\"Boston Data shape: \", boston.data.shape)\n",
    "for i in range(13):\n",
    "    boston_single_feature = boston.data[:, np.newaxis, i]\n",
    "    boston_train_x, boston_test_x, boston_train_y, boston_test_y = train_test_split(boston_single_feature, boston.target, test_size=0.1, random_state=4)\n",
    "    linreg.fit(boston_train_x, boston_train_y)\n",
    "    pred_y = linreg.predict(boston_test_x)\n",
    "    print(\"Mean squared error for feature %d: %.2f\"% (i, mean_squared_error(boston_test_y, pred_y)))\n"
   ]
  },
  {
   "cell_type": "code",
   "execution_count": 53,
   "metadata": {},
   "outputs": [
    {
     "name": "stdout",
     "output_type": "stream",
     "text": [
      "Breast Cancer Accuracy:  0.877192982456\n"
     ]
    }
   ],
   "source": [
    "cancer_train_x, cancer_test_x, cancer_train_y, cancer_test_y = train_test_split(breast_cancer.data, breast_cancer.target, test_size=0.1, random_state=4)\n",
    "logreg2 = linear_model.LogisticRegression()\n",
    "logreg2.fit(cancer_train_x, cancer_train_y)\n",
    "pred_y = logreg2.predict(cancer_test_x)\n",
    "acc2 = accuracy_score(cancer_test_y, pred_y)\n",
    "print(\"Breast Cancer Accuracy: \", acc2)"
   ]
  },
  {
   "cell_type": "code",
   "execution_count": null,
   "metadata": {
    "collapsed": true
   },
   "outputs": [],
   "source": []
  }
 ],
 "metadata": {
  "kernelspec": {
   "display_name": "Python 3",
   "language": "python",
   "name": "python3"
  },
  "language_info": {
   "codemirror_mode": {
    "name": "ipython",
    "version": 3
   },
   "file_extension": ".py",
   "mimetype": "text/x-python",
   "name": "python",
   "nbconvert_exporter": "python",
   "pygments_lexer": "ipython3",
   "version": "3.6.3"
  }
 },
 "nbformat": 4,
 "nbformat_minor": 2
}
