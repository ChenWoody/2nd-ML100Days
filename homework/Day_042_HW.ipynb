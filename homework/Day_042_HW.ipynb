{
 "cells": [
  {
   "cell_type": "markdown",
   "metadata": {},
   "source": [
    "## [作業重點]\n",
    "目前你應該已經要很清楚資料集中，資料的型態是什麼樣子囉！包含特徵 (features) 與標籤 (labels)。因此要記得未來不管什麼專案，必須要把資料清理成相同的格式，才能送進模型訓練。\n",
    "今天的作業開始踏入決策樹這個非常重要的模型，請務必確保你理解模型中每個超參數的意思，並試著調整看看，對最終預測結果的影響為何"
   ]
  },
  {
   "cell_type": "markdown",
   "metadata": {},
   "source": [
    "## 作業\n",
    "\n",
    "1. 試著調整 DecisionTreeClassifier(...) 中的參數，並觀察是否會改變結果？\n",
    "2. 改用其他資料集 (boston, wine)，並與回歸模型的結果進行比較"
   ]
  },
  {
   "cell_type": "code",
   "execution_count": 70,
   "metadata": {
    "collapsed": true
   },
   "outputs": [],
   "source": [
    "from sklearn import datasets, metrics\n",
    "\n",
    "# 如果是分類問題，請使用 DecisionTreeClassifier，若為回歸問題，請使用 DecisionTreeRegressor\n",
    "from sklearn.tree import DecisionTreeClassifier, DecisionTreeRegressor\n",
    "from sklearn.model_selection import train_test_split"
   ]
  },
  {
   "cell_type": "code",
   "execution_count": 71,
   "metadata": {
    "collapsed": true
   },
   "outputs": [],
   "source": [
    "iris = datasets.load_iris()\n",
    "\n",
    "# 切分訓練集/測試集\n",
    "x_train, x_test, y_train, y_test = train_test_split(iris.data, iris.target, test_size=0.25, random_state=4)\n",
    "\n",
    "# 建立模型\n",
    "clf = DecisionTreeClassifier(criterion = 'entropy', max_depth = 4, min_samples_split = 2)\n",
    "\n",
    "# 訓練模型\n",
    "clf.fit(x_train, y_train)\n",
    "\n",
    "# 預測測試集\n",
    "y_pred = clf.predict(x_test)"
   ]
  },
  {
   "cell_type": "code",
   "execution_count": 72,
   "metadata": {},
   "outputs": [
    {
     "name": "stdout",
     "output_type": "stream",
     "text": [
      "Acuuracy:  0.973684210526\n"
     ]
    }
   ],
   "source": [
    "acc = metrics.accuracy_score(y_test, y_pred)\n",
    "print(\"Acuuracy: \", acc)"
   ]
  },
  {
   "cell_type": "code",
   "execution_count": 73,
   "metadata": {},
   "outputs": [
    {
     "name": "stdout",
     "output_type": "stream",
     "text": [
      "['sepal length (cm)', 'sepal width (cm)', 'petal length (cm)', 'petal width (cm)']\n",
      "Feature importance:  [ 0.          0.0156062   0.07501716  0.90937664]\n"
     ]
    }
   ],
   "source": [
    "print(iris.feature_names)\n",
    "print(\"Feature importance: \", clf.feature_importances_)"
   ]
  },
  {
   "cell_type": "code",
   "execution_count": 74,
   "metadata": {
    "collapsed": true
   },
   "outputs": [],
   "source": [
    "boston = datasets.load_boston()\n",
    "boston_train_x, boston_test_x, boston_train_y, boston_test_y = train_test_split(boston.data, boston.target, test_size = 0.3, random_state = 4)\n",
    "clf.fit(boston_train_x, boston_train_y.astype(int))\n",
    "boston_pred = clf.predict(boston_test_x)"
   ]
  },
  {
   "cell_type": "code",
   "execution_count": 75,
   "metadata": {},
   "outputs": [
    {
     "name": "stdout",
     "output_type": "stream",
     "text": [
      "Acuuracy of Boston(classifier):  0.131578947368\n"
     ]
    }
   ],
   "source": [
    "boston_acc = metrics.accuracy_score(boston_test_y.astype(int), boston_pred)\n",
    "print(\"Acuuracy of Boston(classifier): \", boston_acc)\n",
    "print(boston.feature_names)\n",
    "print(\"Feature importance: \", clf.feature_importances_)"
   ]
  },
  {
   "cell_type": "code",
   "execution_count": 78,
   "metadata": {},
   "outputs": [
    {
     "name": "stdout",
     "output_type": "stream",
     "text": [
      "Acuuracy of Boston(Regression):  0.171052631579\n",
      "['CRIM' 'ZN' 'INDUS' 'CHAS' 'NOX' 'RM' 'AGE' 'DIS' 'RAD' 'TAX' 'PTRATIO'\n",
      " 'B' 'LSTAT']\n",
      "[  5.07680103e-02   1.91707130e-03   1.66315165e-02   1.18815316e-02\n",
      "   1.48303722e-02   5.47808586e-01   1.05586493e-02   7.65116758e-02\n",
      "   2.36363093e-04   1.00564433e-02   1.78402146e-02   1.15692088e-02\n",
      "   2.29390357e-01]\n"
     ]
    }
   ],
   "source": [
    "Reg = DecisionTreeRegressor()\n",
    "Reg.fit(boston_train_x, boston_train_y.astype(int))\n",
    "boston_pred2 = Reg.predict(boston_test_x)\n",
    "boston_acc2 = metrics.accuracy_score(boston_test_y.astype(int), boston_pred2)\n",
    "print(\"Acuuracy of Boston(Regression): \", boston_acc2)\n",
    "print(boston.feature_names)\n",
    "print(Reg.feature_importances_)"
   ]
  },
  {
   "cell_type": "code",
   "execution_count": 79,
   "metadata": {},
   "outputs": [
    {
     "name": "stdout",
     "output_type": "stream",
     "text": [
      "Acuuracy of Wine(classifier):  0.925925925926\n",
      "['alcohol', 'malic_acid', 'ash', 'alcalinity_of_ash', 'magnesium', 'total_phenols', 'flavanoids', 'nonflavanoid_phenols', 'proanthocyanins', 'color_intensity', 'hue', 'od280/od315_of_diluted_wines', 'proline']\n",
      "[ 0.01429939  0.          0.          0.02126655  0.08147802  0.          0.0333229\n",
      "  0.          0.          0.10261596  0.          0.41837057  0.32864662]\n"
     ]
    }
   ],
   "source": [
    "wine = datasets.load_wine()\n",
    "wine_train_x, wine_test_x, wine_train_y, wine_test_y = train_test_split(wine.data, wine.target, test_size = 0.3, random_state = 4)\n",
    "clf.fit(wine_train_x, wine_train_y)\n",
    "wine_pred = clf.predict(wine_test_x)\n",
    "wine_acc = metrics.accuracy_score(wine_test_y, wine_pred)\n",
    "print(\"Acuuracy of Wine(classifier): \", wine_acc)\n",
    "print(wine.feature_names)\n",
    "print(clf.feature_importances_)"
   ]
  },
  {
   "cell_type": "code",
   "execution_count": 69,
   "metadata": {},
   "outputs": [
    {
     "name": "stdout",
     "output_type": "stream",
     "text": [
      "Acuuracy of Wine(regression):  0.962962962963\n",
      "[ 0.          0.          0.          0.00435542  0.00936414  0.\n",
      "  0.61844837  0.          0.          0.11941003  0.          0.\n",
      "  0.24842204]\n"
     ]
    }
   ],
   "source": [
    "Reg.fit(wine_train_x, wine_train_y)\n",
    "wine_pred2 = Reg.predict(wine_test_x)\n",
    "wine_acc2 = metrics.accuracy_score(wine_test_y, wine_pred2)\n",
    "print(\"Acuuracy of Wine(regression): \", wine_acc2)\n",
    "print(Reg.feature_importances_)"
   ]
  },
  {
   "cell_type": "code",
   "execution_count": null,
   "metadata": {
    "collapsed": true
   },
   "outputs": [],
   "source": []
  }
 ],
 "metadata": {
  "kernelspec": {
   "display_name": "Python 3",
   "language": "python",
   "name": "python3"
  },
  "language_info": {
   "codemirror_mode": {
    "name": "ipython",
    "version": 3
   },
   "file_extension": ".py",
   "mimetype": "text/x-python",
   "name": "python",
   "nbconvert_exporter": "python",
   "pygments_lexer": "ipython3",
   "version": "3.6.3"
  }
 },
 "nbformat": 4,
 "nbformat_minor": 2
}
