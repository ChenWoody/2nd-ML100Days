{
 "cells": [
  {
   "cell_type": "markdown",
   "metadata": {},
   "source": [
    "## [作業重點]\n",
    "了解如何使用 Sklearn 中的 hyper-parameter search 找出最佳的超參數"
   ]
  },
  {
   "cell_type": "markdown",
   "metadata": {},
   "source": [
    "### 作業\n",
    "請使用不同的資料集，並使用 hyper-parameter search 的方式，看能不能找出最佳的超參數組合"
   ]
  },
  {
   "cell_type": "code",
   "execution_count": 1,
   "metadata": {
    "collapsed": true
   },
   "outputs": [],
   "source": [
    "from sklearn import datasets, metrics\n",
    "from sklearn.model_selection import train_test_split, KFold, GridSearchCV\n",
    "from sklearn.ensemble import GradientBoostingRegressor, GradientBoostingClassifier\n",
    "import numpy as np"
   ]
  },
  {
   "cell_type": "code",
   "execution_count": 2,
   "metadata": {},
   "outputs": [
    {
     "name": "stdout",
     "output_type": "stream",
     "text": [
      "Error rate:8.525289929280651\n"
     ]
    }
   ],
   "source": [
    "boston = datasets.load_boston()\n",
    "b_train_x, b_test_x, b_train_y, b_test_y = train_test_split(boston.data, boston.target, test_size = 0.3, random_state = 42)\n",
    "reg = GradientBoostingRegressor(random_state=7)\n",
    "reg.fit(b_train_x, b_train_y)\n",
    "b_pred_reg = reg.predict(b_test_x)\n",
    "error = metrics.mean_squared_error(b_test_y, b_pred_reg)\n",
    "print(\"Error rate:{0}\".format(error))"
   ]
  },
  {
   "cell_type": "code",
   "execution_count": 3,
   "metadata": {
    "collapsed": true
   },
   "outputs": [],
   "source": [
    "n_estimators = np.arange(10, 100, 20)\n",
    "max_depth = np.arange(1, 10, 2)\n",
    "param_grid = dict(n_estimators = n_estimators, max_depth = max_depth)"
   ]
  },
  {
   "cell_type": "code",
   "execution_count": 4,
   "metadata": {
    "scrolled": false
   },
   "outputs": [
    {
     "name": "stdout",
     "output_type": "stream",
     "text": [
      "Fitting 3 folds for each of 25 candidates, totalling 75 fits\n",
      "Smallest error: -13.652855 using {'max_depth': 3, 'n_estimators': 90}\n"
     ]
    },
    {
     "name": "stderr",
     "output_type": "stream",
     "text": [
      "[Parallel(n_jobs=-1)]: Done  75 out of  75 | elapsed:    2.1s finished\n"
     ]
    }
   ],
   "source": [
    "grid_search_reg = GridSearchCV(reg, param_grid, scoring=\"neg_mean_squared_error\", n_jobs=-1, verbose=1)\n",
    "grid_result_reg = grid_search_reg.fit(b_train_x, b_train_y)\n",
    "print(\"Smallest error: %f using %s\" % (grid_result_reg.best_score_, grid_result_reg.best_params_))"
   ]
  },
  {
   "cell_type": "code",
   "execution_count": 8,
   "metadata": {},
   "outputs": [
    {
     "name": "stdout",
     "output_type": "stream",
     "text": [
      "Best Error rate:8.123915339569658\n"
     ]
    }
   ],
   "source": [
    "reg_bestParam = GradientBoostingRegressor(n_estimators = grid_result_reg.best_params_['n_estimators'], \n",
    "                                          max_depth = grid_result_reg.best_params_['max_depth'])\n",
    "reg_bestParam.fit(b_train_x, b_train_y)\n",
    "best_pred = reg_bestParam.predict(b_test_x)\n",
    "best_error = metrics.mean_squared_error(b_test_y, best_pred)\n",
    "print(\"Best Error rate:{0}\".format(best_error))"
   ]
  },
  {
   "cell_type": "code",
   "execution_count": 34,
   "metadata": {},
   "outputs": [
    {
     "name": "stdout",
     "output_type": "stream",
     "text": [
      "Accuracy:0.9259259259259259\n"
     ]
    }
   ],
   "source": [
    "wine = datasets.load_wine()\n",
    "w_train_x, w_test_x, w_train_y, w_test_y = train_test_split(wine.data, wine.target, test_size = 0.3, random_state = 4)\n",
    "cla = GradientBoostingClassifier(n_estimators = 30, max_depth = 10, random_state=7)\n",
    "cla.fit(w_train_x, w_train_y.astype(int))\n",
    "w_pred_cla = cla.predict(w_test_x)\n",
    "acc = metrics.accuracy_score(w_test_y.astype(int), w_pred_cla.astype(int))\n",
    "print('Accuracy:{0}'.format(acc))"
   ]
  },
  {
   "cell_type": "code",
   "execution_count": 35,
   "metadata": {},
   "outputs": [
    {
     "name": "stdout",
     "output_type": "stream",
     "text": [
      "Fitting 3 folds for each of 25 candidates, totalling 75 fits\n",
      "Largest Accuracy: 0.975806 using {'max_depth': 1, 'n_estimators': 30}\n"
     ]
    },
    {
     "name": "stderr",
     "output_type": "stream",
     "text": [
      "[Parallel(n_jobs=-1)]: Done  75 out of  75 | elapsed:    2.5s finished\n"
     ]
    }
   ],
   "source": [
    "grid_search_cla = GridSearchCV(cla, param_grid, scoring=\"accuracy\", n_jobs=-1, verbose=1)\n",
    "grid_result_cla = grid_search_cla.fit(w_train_x, w_train_y.astype(int))\n",
    "print(\"Largest Accuracy: %f using %s\" % (grid_result_cla.best_score_, grid_result_cla.best_params_))"
   ]
  },
  {
   "cell_type": "code",
   "execution_count": 38,
   "metadata": {},
   "outputs": [
    {
     "name": "stdout",
     "output_type": "stream",
     "text": [
      "Best Accuracy:0.9444444444444444\n"
     ]
    }
   ],
   "source": [
    "cla_bestParam = GradientBoostingClassifier(n_estimators = grid_result_cla.best_params_['n_estimators'], \n",
    "                                          max_depth = grid_result_cla.best_params_['max_depth'])\n",
    "cla_bestParam.fit(w_train_x, w_train_y.astype(int))\n",
    "best_pred_cla = cla_bestParam.predict(w_test_x)\n",
    "best_acc_cla = metrics.accuracy_score(w_test_y.astype(int), best_pred_cla.astype(int))\n",
    "print(\"Best Accuracy:{0}\".format(best_acc_cla))"
   ]
  },
  {
   "cell_type": "code",
   "execution_count": null,
   "metadata": {
    "collapsed": true
   },
   "outputs": [],
   "source": []
  }
 ],
 "metadata": {
  "kernelspec": {
   "display_name": "Python 3",
   "language": "python",
   "name": "python3"
  },
  "language_info": {
   "codemirror_mode": {
    "name": "ipython",
    "version": 3
   },
   "file_extension": ".py",
   "mimetype": "text/x-python",
   "name": "python",
   "nbconvert_exporter": "python",
   "pygments_lexer": "ipython3",
   "version": "3.6.3"
  }
 },
 "nbformat": 4,
 "nbformat_minor": 2
}
