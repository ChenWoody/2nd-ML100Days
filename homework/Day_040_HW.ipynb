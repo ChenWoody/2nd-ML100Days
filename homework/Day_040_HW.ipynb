{
 "cells": [
  {
   "cell_type": "markdown",
   "metadata": {},
   "source": [
    "## [作業重點]\n",
    "使用 Sklearn 中的 Lasso, Ridge 模型，來訓練各種資料集，務必了解送進去模型訓練的**資料型態**為何，也請了解模型中各項參數的意義。\n",
    "\n",
    "機器學習的模型非常多種，但要訓練的資料多半有固定的格式，確保你了解訓練資料的格式為何，這樣在應用新模型時，就能夠最快的上手開始訓練！"
   ]
  },
  {
   "cell_type": "markdown",
   "metadata": {},
   "source": [
    "## 練習時間\n",
    "試著使用 sklearn datasets 的其他資料集 (boston, ...)，來訓練自己的線性迴歸模型，並加上適當的正則話來觀察訓練情形。"
   ]
  },
  {
   "cell_type": "code",
   "execution_count": 24,
   "metadata": {},
   "outputs": [
    {
     "name": "stdout",
     "output_type": "stream",
     "text": [
      "Boston Data shape:  (506, 13)\n",
      "Mean squared error of Liner regression: 17.03\n",
      "[ -1.24793110e-01   4.83961673e-02   1.88111508e-02   3.08800922e+00\n",
      "  -1.73655165e+01   3.60982405e+00   2.27233321e-03  -1.49381500e+00\n",
      "   3.19455416e-01  -1.27236845e-02  -9.28369630e-01   9.60925451e-03\n",
      "  -5.34508193e-01]\n"
     ]
    }
   ],
   "source": [
    "import numpy as np\n",
    "import matplotlib.pyplot as plt\n",
    "from sklearn import datasets, linear_model\n",
    "from sklearn.model_selection import train_test_split\n",
    "from sklearn.metrics import mean_squared_error, r2_score, accuracy_score\n",
    "\n",
    "boston = datasets.load_boston()\n",
    "linreg = linear_model.LinearRegression()\n",
    "print(\"Boston Data shape: \", boston.data.shape)\n",
    "boston_train_x, boston_test_x, boston_train_y, boston_test_y = train_test_split(boston.data, boston.target, test_size=0.1, random_state=4)\n",
    "linreg.fit(boston_train_x, boston_train_y)\n",
    "pred_y = linreg.predict(boston_test_x)\n",
    "print(\"Mean squared error of Liner regression: %.2f\"% (mean_squared_error(boston_test_y, pred_y)))\n",
    "print(linreg.coef_)\n"
   ]
  },
  {
   "cell_type": "code",
   "execution_count": 25,
   "metadata": {},
   "outputs": [
    {
     "name": "stdout",
     "output_type": "stream",
     "text": [
      "Mean squared error of Lasso regression: 18.18\n",
      "Mean squared error of Lasso regression: 18.42\n",
      "Mean squared error of Lasso regression: 18.77\n",
      "Mean squared error of Lasso regression: 19.17\n",
      "Mean squared error of Lasso regression: 19.66\n",
      "Mean squared error of Lasso regression: 20.22\n",
      "Mean squared error of Lasso regression: 20.86\n",
      "Mean squared error of Lasso regression: 21.58\n",
      "Mean squared error of Lasso regression: 22.37\n",
      "Mean squared error of Lasso regression: 23.25\n"
     ]
    }
   ],
   "source": [
    "range = np.arange(0.1, 1.1, 0.1)\n",
    "for i in range:\n",
    "    lasso = linear_model.Lasso(alpha=i)\n",
    "    lasso.fit(boston_train_x, boston_train_y)\n",
    "    lasso_pred = lasso.predict(boston_test_x)\n",
    "    print(\"Mean squared error of Lasso regression: %.2f\"% (mean_squared_error(boston_test_y, lasso_pred)))\n",
    "#print(lasso.coef_)"
   ]
  },
  {
   "cell_type": "code",
   "execution_count": 26,
   "metadata": {},
   "outputs": [
    {
     "name": "stdout",
     "output_type": "stream",
     "text": [
      "Mean squared error of Ridge regression: 17.06\n",
      "Mean squared error of Ridge regression: 17.09\n",
      "Mean squared error of Ridge regression: 17.12\n",
      "Mean squared error of Ridge regression: 17.16\n",
      "Mean squared error of Ridge regression: 17.19\n",
      "Mean squared error of Ridge regression: 17.22\n",
      "Mean squared error of Ridge regression: 17.25\n",
      "Mean squared error of Ridge regression: 17.28\n",
      "Mean squared error of Ridge regression: 17.31\n",
      "Mean squared error of Ridge regression: 17.34\n"
     ]
    }
   ],
   "source": [
    "range = np.arange(0.1, 1.1, 0.1)\n",
    "for i in range:\n",
    "    Ridge = linear_model.Ridge(alpha=i)\n",
    "    Ridge.fit(boston_train_x, boston_train_y)\n",
    "    Ridge_pred = Ridge.predict(boston_test_x)\n",
    "    print(\"Mean squared error of Ridge regression: %.2f\"% (mean_squared_error(boston_test_y, Ridge_pred)))"
   ]
  },
  {
   "cell_type": "code",
   "execution_count": null,
   "metadata": {
    "collapsed": true
   },
   "outputs": [],
   "source": []
  }
 ],
 "metadata": {
  "kernelspec": {
   "display_name": "Python 3",
   "language": "python",
   "name": "python3"
  },
  "language_info": {
   "codemirror_mode": {
    "name": "ipython",
    "version": 3
   },
   "file_extension": ".py",
   "mimetype": "text/x-python",
   "name": "python",
   "nbconvert_exporter": "python",
   "pygments_lexer": "ipython3",
   "version": "3.6.3"
  }
 },
 "nbformat": 4,
 "nbformat_minor": 2
}
